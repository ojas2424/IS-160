{
  "nbformat": 4,
  "nbformat_minor": 0,
  "metadata": {
    "colab": {
      "provenance": []
    },
    "kernelspec": {
      "name": "python3",
      "display_name": "Python 3"
    },
    "language_info": {
      "name": "python"
    }
  },
  "cells": [
    {
      "cell_type": "markdown",
      "source": [
        "# **Python Coding**"
      ],
      "metadata": {
        "id": "rwcFHAUPf-Lm"
      }
    },
    {
      "cell_type": "code",
      "execution_count": 3,
      "metadata": {
        "colab": {
          "base_uri": "https://localhost:8080/"
        },
        "id": "q5TkMZv-VQ4p",
        "outputId": "95be9764-4af1-4a10-b7e6-2d498c0c2ae2"
      },
      "outputs": [
        {
          "output_type": "stream",
          "name": "stdout",
          "text": [
            "Hello Fresno State\n"
          ]
        }
      ],
      "source": [
        "print('Hello Fresno State') # printing the university name"
      ]
    },
    {
      "cell_type": "code",
      "source": [
        "print (2+8)"
      ],
      "metadata": {
        "colab": {
          "base_uri": "https://localhost:8080/"
        },
        "id": "Sz0E0xsJVp1z",
        "outputId": "47d3ae8e-0865-4759-8c26-73fc8b7b3d26"
      },
      "execution_count": 4,
      "outputs": [
        {
          "output_type": "stream",
          "name": "stdout",
          "text": [
            "10\n"
          ]
        }
      ]
    },
    {
      "cell_type": "code",
      "source": [
        "print (85-48)"
      ],
      "metadata": {
        "colab": {
          "base_uri": "https://localhost:8080/"
        },
        "id": "7DotSLrcVrbE",
        "outputId": "00bad09f-d95e-4290-df2d-2193402d078b"
      },
      "execution_count": 5,
      "outputs": [
        {
          "output_type": "stream",
          "name": "stdout",
          "text": [
            "37\n"
          ]
        }
      ]
    },
    {
      "cell_type": "code",
      "source": [
        "print (6*2)"
      ],
      "metadata": {
        "id": "0RrzsvT3VvPg"
      },
      "execution_count": null,
      "outputs": []
    },
    {
      "cell_type": "code",
      "source": [
        "print (20/5)"
      ],
      "metadata": {
        "id": "ml3leCH6VvJE"
      },
      "execution_count": null,
      "outputs": []
    },
    {
      "cell_type": "code",
      "source": [
        "print (2+7+8)"
      ],
      "metadata": {
        "id": "AaahVmHKVyaO"
      },
      "execution_count": null,
      "outputs": []
    },
    {
      "cell_type": "code",
      "source": [
        "print (8-2*4)"
      ],
      "metadata": {
        "id": "QCPPqLpoVvAT"
      },
      "execution_count": null,
      "outputs": []
    },
    {
      "cell_type": "code",
      "source": [
        "print ((7-2)*3)"
      ],
      "metadata": {
        "id": "DpjQqSetV8y7"
      },
      "execution_count": null,
      "outputs": []
    },
    {
      "cell_type": "code",
      "source": [
        "print (4*4*4)\n",
        "print (4**3)              # testing power of 3 or 4 raised to power 3"
      ],
      "metadata": {
        "id": "c4Juh3_8WFjE"
      },
      "execution_count": null,
      "outputs": []
    },
    {
      "cell_type": "code",
      "source": [
        "print (3*4-3)\n",
        "print ((2*4)-3)\n",
        "print (15/(7-2))\n",
        "print (7+5-3)\n",
        "print ((7+5)-3)\n",
        "print (7+(5-3))\n",
        "print ((7*2)-(2+2))\n",
        "print ((3+2)**(4-2))"
      ],
      "metadata": {
        "id": "wM5PjfWvWMuD"
      },
      "execution_count": null,
      "outputs": []
    },
    {
      "cell_type": "code",
      "source": [],
      "metadata": {
        "id": "WgXhOC18WMrF"
      },
      "execution_count": null,
      "outputs": []
    },
    {
      "cell_type": "code",
      "source": [
        "print ('8+3')             # testing addition on strings"
      ],
      "metadata": {
        "colab": {
          "base_uri": "https://localhost:8080/"
        },
        "id": "QIxo4KxlWMoR",
        "outputId": "1702ef68-0d57-42da-a319-ec4b2cfdc3cc"
      },
      "execution_count": 7,
      "outputs": [
        {
          "output_type": "stream",
          "name": "stdout",
          "text": [
            "8+3\n"
          ]
        }
      ]
    },
    {
      "cell_type": "code",
      "source": [
        "print (('7+5= '), (7+5))\n",
        "print ((7*8*2), ('is the answer to 7 * 8 * 2'))"
      ],
      "metadata": {
        "colab": {
          "base_uri": "https://localhost:8080/"
        },
        "id": "pKxB4gEhWMd-",
        "outputId": "af55116c-7a1f-4ad5-fe36-7ae349376fa9"
      },
      "execution_count": 8,
      "outputs": [
        {
          "output_type": "stream",
          "name": "stdout",
          "text": [
            "7+5=  12\n",
            "112 is the answer to 7 * 8 * 2\n"
          ]
        }
      ]
    },
    {
      "cell_type": "markdown",
      "source": [
        "# **Variables in Python**"
      ],
      "metadata": {
        "id": "2WAi_V-4W38Z"
      }
    },
    {
      "cell_type": "code",
      "source": [
        "year = 2023\n",
        "print (year)                 # notice that we DO NOT put year in quotes\n",
        "print (year+6)\n",
        "print (year-3)\n",
        "print ((year-2)+10)\n",
        "print (('The current year is'), (year))     #remember to put in the comma\n",
        "print (('Two years from now it will be'), (year+2))"
      ],
      "metadata": {
        "colab": {
          "base_uri": "https://localhost:8080/"
        },
        "id": "wV0BKSH2W3L8",
        "outputId": "bc550995-5eea-47ad-d439-199b4b3e015b"
      },
      "execution_count": 11,
      "outputs": [
        {
          "output_type": "stream",
          "name": "stdout",
          "text": [
            "2023\n",
            "2029\n",
            "2020\n",
            "2031\n",
            "The current year is 2023\n",
            "Two years from now it will be 2025\n"
          ]
        }
      ]
    },
    {
      "cell_type": "code",
      "source": [
        "year=2024                 # the variable year now refers to 2024\n",
        "print (year)\n",
        "name=('Fresno')\n",
        "print (name)\n",
        "name=('State')\n",
        "print (name)              # the variable name now refers to “State”"
      ],
      "metadata": {
        "colab": {
          "base_uri": "https://localhost:8080/"
        },
        "id": "d56qZJtHXKln",
        "outputId": "294b4c71-5f3f-4351-e408-e2036d447279"
      },
      "execution_count": 14,
      "outputs": [
        {
          "output_type": "stream",
          "name": "stdout",
          "text": [
            "2024\n",
            "Fresno\n",
            "State\n"
          ]
        }
      ]
    },
    {
      "cell_type": "code",
      "source": [
        "name = input ('Please enter your last name: ') # you can enter a name and it will be stored"
      ],
      "metadata": {
        "colab": {
          "base_uri": "https://localhost:8080/"
        },
        "id": "0h6NtMO1fZja",
        "outputId": "302b6a63-60d8-4941-8ba6-c2fc340dc8bc"
      },
      "execution_count": 25,
      "outputs": [
        {
          "name": "stdout",
          "output_type": "stream",
          "text": [
            "Please enter your last name: Ojas Deshmukh\n"
          ]
        }
      ]
    },
    {
      "cell_type": "code",
      "source": [
        "a=10\n",
        "b=5\n",
        "result=a+b\n",
        "print ((a), ('+') , (b), ('='), (result))"
      ],
      "metadata": {
        "colab": {
          "base_uri": "https://localhost:8080/"
        },
        "id": "4Hkn0tGAXU5C",
        "outputId": "adba31ae-5fa1-4d11-e2d7-e4d1d17312a0"
      },
      "execution_count": 15,
      "outputs": [
        {
          "output_type": "stream",
          "name": "stdout",
          "text": [
            "10 + 5 = 15\n"
          ]
        }
      ]
    },
    {
      "cell_type": "code",
      "source": [
        "# This program displays gross pay\n",
        "\n",
        "# Get the number of hours worked\n",
        "hours = int(input('Enter the hours worked this week: '))\n",
        "\n",
        "# Get the hourly pay rate.\n",
        "pay_rate = float(input('Enter the hourly pay rate: '))\n",
        "\n",
        "# Calculate the gross pay\n",
        "gross_pay = hours * pay_rate\n",
        "\n",
        "# Display the gross pay\n",
        "print(f'Gross pay: ${gross_pay:,.2f}')"
      ],
      "metadata": {
        "colab": {
          "base_uri": "https://localhost:8080/"
        },
        "id": "YyIEvehuYM4l",
        "outputId": "7d839e9e-dd90-4d89-febe-fd2171d93e57"
      },
      "execution_count": 19,
      "outputs": [
        {
          "output_type": "stream",
          "name": "stdout",
          "text": [
            "Enter the hours worked this week: 5\n",
            "Enter the hourly pay rate: 16.75\n",
            "Gross pay: $83.75\n"
          ]
        }
      ]
    },
    {
      "cell_type": "markdown",
      "source": [
        "# **Build Your Own Python Program I**"
      ],
      "metadata": {
        "id": "BZZu9eu5sq00"
      }
    },
    {
      "cell_type": "markdown",
      "source": [
        "Q) Here is what you have to program:\n",
        "We now want to edit the program to insert the overtime pay calculation.\n",
        "It should ask the overtime hours, overtime pay rate and then it should print the total gross pay\n",
        "which includes the overtime pay. Given the available coding statements below, where would you\n",
        "place them within the program to generate the output below?"
      ],
      "metadata": {
        "id": "ITRAd9w7ZtFj"
      }
    },
    {
      "cell_type": "code",
      "source": [
        "# Please enter full name of the employee\n",
        "name = input('Enter the worker full name: ')\n",
        "\n",
        "# Please enter the number of over time hours\n",
        "ohours = int(input('Enter the overtime hours worked this week: '))\n",
        "\n",
        "# Please enter the hourly rate of pay for overtime hours\n",
        "opay_rate = float(input('Enter the hourly overtime pay rate: '))\n",
        "\n",
        "# Calculate the overtime pay\n",
        "overtime_pay = ohours * opay_rate\n",
        "\n",
        "# Calculate totla pay\n",
        "combined_pay = overtime_pay + gross_pay\n",
        "\n",
        "print(f'Overtime pay: ${overtime_pay:,.2f}')\n",
        "\n",
        "print((name), (','), ('your total gross pay is: '), f'${combined_pay:,.2f}')"
      ],
      "metadata": {
        "colab": {
          "base_uri": "https://localhost:8080/"
        },
        "id": "8bWlGglEYWpC",
        "outputId": "c497cbfd-ef34-4856-9abe-8c632e670f7c"
      },
      "execution_count": 23,
      "outputs": [
        {
          "output_type": "stream",
          "name": "stdout",
          "text": [
            "Enter the worker full name: Ojas D\n",
            "Enter the overtime hours worked this week: 15\n",
            "Enter the hourly overtime pay rate: 21\n",
            "Overtime pay: $315.00\n",
            "Ojas D , your total gross pay is:  $398.75\n"
          ]
        }
      ]
    },
    {
      "cell_type": "markdown",
      "source": [
        "# **If Statements**"
      ],
      "metadata": {
        "id": "wEMNkztMcige"
      }
    },
    {
      "cell_type": "code",
      "source": [
        "# Take two integer inputs from the user\n",
        "a = int(input('Enter the first number: '))\n",
        "b = int(input('Enter the second number: '))\n",
        "\n",
        "# Check if the product of a and b is equal to 100\n",
        "if (a * b) == 100:\n",
        "    print('The expression is equal')\n",
        "else:\n",
        "    print('Not true')"
      ],
      "metadata": {
        "colab": {
          "base_uri": "https://localhost:8080/"
        },
        "id": "7ILN7gLkbD9V",
        "outputId": "2cca44a6-326a-4db9-fe4d-5571c61b56c1"
      },
      "execution_count": 24,
      "outputs": [
        {
          "output_type": "stream",
          "name": "stdout",
          "text": [
            "Enter the first number: 5\n",
            "Enter the second number: 20\n",
            "The expression is equal\n"
          ]
        }
      ]
    },
    {
      "cell_type": "code",
      "source": [
        "if (8+3) != 10:          # The symbols != mean “not equal”\n",
        "  print('Not equal')\n"
      ],
      "metadata": {
        "colab": {
          "base_uri": "https://localhost:8080/"
        },
        "id": "LrrP2aMldBru",
        "outputId": "331abf1c-0bd2-479f-d4be-68831d28bae2"
      },
      "execution_count": 29,
      "outputs": [
        {
          "output_type": "stream",
          "name": "stdout",
          "text": [
            "Not equal\n"
          ]
        }
      ]
    },
    {
      "cell_type": "code",
      "source": [
        "if 8>5:\n",
        "  print ('8 is greater than 5')"
      ],
      "metadata": {
        "id": "Mf4doV-ehRMh"
      },
      "execution_count": null,
      "outputs": []
    },
    {
      "cell_type": "code",
      "source": [
        "if 8<5:                         # this is false so the print statement\n",
        "  print ('8 is less than 5')    # should not be executed"
      ],
      "metadata": {
        "id": "rY2tKmF1pU5N"
      },
      "execution_count": 30,
      "outputs": []
    },
    {
      "cell_type": "code",
      "source": [
        "a=6\n",
        "b=7\n",
        "c=3\n",
        "d=('Fresno')\n",
        "e=('State')\n",
        "if a==(c*2):\n",
        "  print ('6=3*2')\n",
        "if d!=e:                                  # != is used to test for inequality (not equal to)\n",
        "  print ('The names are not the same')\n",
        "b=9                                       # Note that we added additional lines\n",
        "print ('b has been set to 9')"
      ],
      "metadata": {
        "id": "MdhGVkIppVru"
      },
      "execution_count": null,
      "outputs": []
    },
    {
      "cell_type": "code",
      "source": [
        "a=10\n",
        "b=5\n",
        "operation = ('unknown operation')\n",
        "result=('???')\n",
        "print ('Which operation should I perform + or - ?')\n",
        "operation=input()\n",
        "if operation==('+'):\n",
        "  result = a+b # Hit the Tab key to indent\n",
        "if operation==('-'):\n",
        "  result = a-b # Hit the Tab key to indent\n",
        "print ((a), (operation), (b) ,('='),(result))"
      ],
      "metadata": {
        "colab": {
          "base_uri": "https://localhost:8080/"
        },
        "id": "wrfgjTiepVpK",
        "outputId": "1aef9a4d-abf9-4580-83a6-22df1fa3f1cf"
      },
      "execution_count": 31,
      "outputs": [
        {
          "output_type": "stream",
          "name": "stdout",
          "text": [
            "Which operation should I perform + or - ?\n",
            "+\n",
            "10 + 5 = 15\n"
          ]
        }
      ]
    },
    {
      "cell_type": "markdown",
      "source": [
        "# **Build Your Own Python Program II**"
      ],
      "metadata": {
        "id": "nECXo23Pr9cY"
      }
    },
    {
      "cell_type": "markdown",
      "source": [
        "In this program problem, we’ll use all the lessons that we have covered upto this page (eg.\n",
        "operators, assigning variables, IF statement/command, storing variables). You are going to\n",
        "modify the above program. Save the above program and replicate it. You now have two identical\n",
        "programs. The replicated one is the one that we’ll modify it. Here is what you have to do (the\n",
        "critical thinking):\n",
        "You need to modify the program so that the program asks a user’s last name, two integers, and\n",
        "WHAT operator from addition (+), subtraction (-), multiplication (*), division (/) or\n",
        "exponentiation (**).\n",
        "You will need to add extra IF statements for these new operators. If you are not sure, go over the\n",
        "previous pages that introduced the IF statement. Also, add as many comment lines using the #\n",
        "sign as you can for readability. A good program always use many comments for others to\n",
        "understand. It’s always good to explain what each code is doing for your audience."
      ],
      "metadata": {
        "id": "1U9lvt0isIqj"
      }
    },
    {
      "cell_type": "code",
      "source": [
        "# Ask for the user's last name\n",
        "name = input('Please enter your last name: ')\n",
        "\n",
        "# Ask for the first integer\n",
        "print('Please enter an integer:')\n",
        "a = int(input())  # Convert the input to an integer\n",
        "\n",
        "# Ask for the second integer\n",
        "print('Please enter another integer:')\n",
        "b = int(input())  # Convert the input to an integer\n",
        "\n",
        "# Ask the user to choose an operation\n",
        "print('Which operation should I perform: +, -, *, /, or ** ?')\n",
        "operator = input()  # Store the chosen operator as a string\n",
        "\n",
        "# Perform the operation based on the user's input\n",
        "\n",
        "if operator == '+':\n",
        "    result = a + b  # Add the two numbers\n",
        "    print(f'{name}, here is your answer: {a} + {b} = {result}')\n",
        "\n",
        "\n",
        "elif operator == '-':\n",
        "    result = a - b  # Subtract the second number from the first\n",
        "    print(f'{name}, here is your answer: {a} - {b} = {result}')\n",
        "\n",
        "\n",
        "elif operator == '*':\n",
        "    result = a * b  # Multiply the two numbers\n",
        "    print(f'{name}, here is your answer: {a} * {b} = {result}')\n",
        "\n",
        "\n",
        "elif operator == '/':\n",
        "\n",
        "    if b != 0:\n",
        "        result = a / b  # Divide the first number by the second\n",
        "        print(f'{name}, here is your answer: {a} / {b} = {result}')\n",
        "    else:\n",
        "        print('Division by zero is not allowed.')\n",
        "\n",
        "\n",
        "elif operator == '**':\n",
        "    result = a ** b  # Raise the first number to the power of the second\n",
        "    print(f'{name}, here is your answer: {a} ** {b} = {result}')\n",
        "\n",
        "\n",
        "else:\n",
        "    print(f'{name}, that is not a valid operator.')\n",
        "\n"
      ],
      "metadata": {
        "colab": {
          "base_uri": "https://localhost:8080/"
        },
        "id": "z2QVhXfIpVmQ",
        "outputId": "6e0231e1-16f5-4656-dcee-b078b2ae9d8e"
      },
      "execution_count": 32,
      "outputs": [
        {
          "output_type": "stream",
          "name": "stdout",
          "text": [
            "Please enter your last name: Deshmukh\n",
            "Please enter an integer:\n",
            "34\n",
            "Please enter another integer:\n",
            "56\n",
            "Which operation should I perform: +, -, *, /, or ** ?\n",
            "*\n",
            "Deshmukh, here is your answer: 34 * 56 = 1904\n"
          ]
        }
      ]
    },
    {
      "cell_type": "code",
      "source": [],
      "metadata": {
        "id": "SZshovqBpVjh"
      },
      "execution_count": null,
      "outputs": []
    }
  ]
}
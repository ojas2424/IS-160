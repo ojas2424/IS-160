{
  "cells": [
    {
      "cell_type": "markdown",
      "metadata": {
        "id": "g0NSupbGHPXC"
      },
      "source": [
        "# **Importing Libraries And Packages**"
      ]
    },
    {
      "cell_type": "code",
      "execution_count": null,
      "metadata": {
        "id": "BkBW8PfJsXjO"
      },
      "outputs": [],
      "source": [
        "# Outline for Analysis:\n",
        "# link to resources/document: https://docs.google.com/document/d/1rS0KB2LeQ3CscgtwTi__U7ahBkiBTOMRAyGMBNB_Gwo/edit?usp=sharing\n",
        "# 1. Cleaning Datasets for analyzing\n",
        "# 2. Analyzing datasets for deep learning\n"
      ]
    },
    {
      "cell_type": "code",
      "execution_count": null,
      "metadata": {
        "colab": {
          "base_uri": "https://localhost:8080/"
        },
        "id": "Yj4AhKBIt6VF",
        "outputId": "21f2ce91-b061-43e6-b1ec-05a3d582c6cc"
      },
      "outputs": [
        {
          "output_type": "stream",
          "name": "stdout",
          "text": [
            "Requirement already satisfied: geopandas in /usr/local/lib/python3.10/dist-packages (1.0.1)\n",
            "Requirement already satisfied: numpy>=1.22 in /usr/local/lib/python3.10/dist-packages (from geopandas) (1.26.4)\n",
            "Requirement already satisfied: pyogrio>=0.7.2 in /usr/local/lib/python3.10/dist-packages (from geopandas) (0.10.0)\n",
            "Requirement already satisfied: packaging in /usr/local/lib/python3.10/dist-packages (from geopandas) (24.2)\n",
            "Requirement already satisfied: pandas>=1.4.0 in /usr/local/lib/python3.10/dist-packages (from geopandas) (2.2.2)\n",
            "Requirement already satisfied: pyproj>=3.3.0 in /usr/local/lib/python3.10/dist-packages (from geopandas) (3.7.0)\n",
            "Requirement already satisfied: shapely>=2.0.0 in /usr/local/lib/python3.10/dist-packages (from geopandas) (2.0.6)\n",
            "Requirement already satisfied: python-dateutil>=2.8.2 in /usr/local/lib/python3.10/dist-packages (from pandas>=1.4.0->geopandas) (2.8.2)\n",
            "Requirement already satisfied: pytz>=2020.1 in /usr/local/lib/python3.10/dist-packages (from pandas>=1.4.0->geopandas) (2024.2)\n",
            "Requirement already satisfied: tzdata>=2022.7 in /usr/local/lib/python3.10/dist-packages (from pandas>=1.4.0->geopandas) (2024.2)\n",
            "Requirement already satisfied: certifi in /usr/local/lib/python3.10/dist-packages (from pyogrio>=0.7.2->geopandas) (2024.8.30)\n",
            "Requirement already satisfied: six>=1.5 in /usr/local/lib/python3.10/dist-packages (from python-dateutil>=2.8.2->pandas>=1.4.0->geopandas) (1.16.0)\n"
          ]
        }
      ],
      "source": [
        "import pandas as pd\n",
        "from sklearn.model_selection import train_test_split\n",
        "from sklearn.preprocessing import LabelEncoder, StandardScaler\n",
        "\n",
        "# Installing the geopandas for handling geospatial data\n",
        "!pip install geopandas\n",
        "\n",
        "# Importing the required libraries\n",
        "import pandas as pd\n",
        "import geopandas as gpd\n",
        "import numpy as np"
      ]
    },
    {
      "cell_type": "markdown",
      "metadata": {
        "id": "fhcKpnT7HYl5"
      },
      "source": [
        "# **Uploading Datasets**"
      ]
    },
    {
      "cell_type": "code",
      "execution_count": null,
      "metadata": {
        "colab": {
          "base_uri": "https://localhost:8080/"
        },
        "id": "tIhNOdb3EYEm",
        "outputId": "9a58ed7b-ad58-434f-f0f6-d5904de43224"
      },
      "outputs": [
        {
          "output_type": "stream",
          "name": "stderr",
          "text": [
            "<ipython-input-3-d5d5e57f46c9>:7: DtypeWarning: Columns (30,36,37) have mixed types. Specify dtype option on import or set low_memory=False.\n",
            "  addresses = pd.read_csv('fresno_addresses_data.csv')\n"
          ]
        }
      ],
      "source": [
        "# Load CSV files\n",
        "bus_routes = pd.read_csv('bus_routes_data.csv')\n",
        "bus_stops = pd.read_csv('bus_stop_data.csv')\n",
        "city_limits = pd.read_csv('city_limits_data.csv')\n",
        "streets = pd.read_csv('street_data.csv')\n",
        "zoning = pd.read_csv('zoning_data.csv')\n",
        "addresses = pd.read_csv('fresno_addresses_data.csv')"
      ]
    },
    {
      "cell_type": "code",
      "execution_count": null,
      "metadata": {
        "colab": {
          "base_uri": "https://localhost:8080/"
        },
        "id": "73akQkOGHywJ",
        "outputId": "9ec440e1-2283-4bb7-fa53-436294739ad2"
      },
      "outputs": [
        {
          "output_type": "stream",
          "name": "stdout",
          "text": [
            "<class 'pandas.core.frame.DataFrame'>\n",
            "RangeIndex: 1519 entries, 0 to 1518\n",
            "Data columns (total 10 columns):\n",
            " #   Column               Non-Null Count  Dtype  \n",
            "---  ------               --------------  -----  \n",
            " 0   ObjectID             1519 non-null   int64  \n",
            " 1   Stop ID              1519 non-null   int64  \n",
            " 2   Stop Code            1519 non-null   int64  \n",
            " 3   Stop Name            1519 non-null   object \n",
            " 4   Stop Description     1519 non-null   object \n",
            " 5   Stop Latitiude       1519 non-null   float64\n",
            " 6   Stop Longtitude      1519 non-null   float64\n",
            " 7   Wheelchair Boarding  0 non-null      float64\n",
            " 8   x                    1519 non-null   float64\n",
            " 9   y                    1519 non-null   float64\n",
            "dtypes: float64(5), int64(3), object(2)\n",
            "memory usage: 118.8+ KB\n",
            "None\n",
            "   ObjectID  Stop ID  Stop Code             Stop Name  \\\n",
            "0     16768        5          5  NE BRAWLEY - SHIELDS   \n",
            "1     16769        6          6     SE SHAW - BRAWLEY   \n",
            "2     16770        7          7        SW SHAW - WEST   \n",
            "3     16771        8          8  SE SHAW - BLACKSTONE   \n",
            "4     16772        9          9       SE SHAW - FIRST   \n",
            "\n",
            "                 Stop Description  Stop Latitiude  Stop Longtitude  \\\n",
            "0  N BRAWLEY AVE & W FOUNTAIN WAY       36.779591      -119.862246   \n",
            "1      W SHAW AVE & N BRAWLEY AVE       36.808145      -119.862218   \n",
            "2         W SHAW AVE & N WEST AVE       36.808250      -119.826818   \n",
            "3   E SHAW AVE & N BLACKSTONE AVE       36.808498      -119.790072   \n",
            "4         E SHAW AVE & N FIRST ST       36.808537      -119.771948   \n",
            "\n",
            "   Wheelchair Boarding             x             y  \n",
            "0                  NaN  6.309159e+06  2.168055e+06  \n",
            "1                  NaN  6.309261e+06  2.178450e+06  \n",
            "2                  NaN  6.319624e+06  2.178397e+06  \n",
            "3                  NaN  6.330382e+06  2.178396e+06  \n",
            "4                  NaN  6.335687e+06  2.178368e+06  \n"
          ]
        }
      ],
      "source": [
        "# print(bus_stops.info())\n",
        "# print(bus_stops.head())"
      ]
    },
    {
      "cell_type": "code",
      "execution_count": null,
      "metadata": {
        "colab": {
          "base_uri": "https://localhost:8080/"
        },
        "id": "4xHfixQ8PyJS",
        "outputId": "b921d7b6-5938-4e12-f5a4-ed85aaaccb36"
      },
      "outputs": [
        {
          "output_type": "stream",
          "name": "stdout",
          "text": [
            "Index(['ObjectID', 'Stop ID', 'Stop Code', 'Stop Name', 'Stop Description',\n",
            "       'Stop Latitiude', 'Stop Longtitude', 'Wheelchair Boarding', 'x', 'y'],\n",
            "      dtype='object')\n"
          ]
        }
      ],
      "source": [
        "# print(bus_stops.columns)"
      ]
    },
    {
      "cell_type": "code",
      "execution_count": null,
      "metadata": {
        "colab": {
          "base_uri": "https://localhost:8080/",
          "height": 1000
        },
        "id": "3gcNJXMat7iA",
        "outputId": "0453c252-9b0b-47d4-a7e6-ca6e951a3288"
      },
      "outputs": [
        {
          "output_type": "stream",
          "name": "stdout",
          "text": [
            "                                         WKT       APN  APNLEVEL  \\\n",
            "0  POINT (6333768.94681497 2148150.87740372)  46824013         1   \n",
            "1  POINT (6330750.41216964 2185454.07543498)  40915028         1   \n",
            "2  POINT (6330924.28550956 2147016.87835939)  46713309         1   \n",
            "3  POINT (6341970.65154013 2155858.45614864)       NaN         1   \n",
            "4  POINT (6330892.58511364 2147551.48949489)       NaN         1   \n",
            "\n",
            "                ADDRESS  ADRNUM ADRDIR  ADRNAME ADRSUFF ADRAPT      ZIP  ...  \\\n",
            "0            37 53 L ST      37               L      ST    NaN  93721.0  ...   \n",
            "1      66 E ESCALON AVE      66      E  ESCALON     AVE    NaN  93710.0  ...   \n",
            "2              208 E ST     208               E      ST    NaN  93706.0  ...   \n",
            "3  278 N BARTON AVE L/S     278      N   BARTON     AVE    NaN  93702.0  ...   \n",
            "4              328 F ST     328               F      ST    NaN  93706.0  ...   \n",
            "\n",
            "  adrpdir  adrcity       shape_X       shape_Y nearest_bus_stop_index  \\\n",
            "0     NaN   FRESNO  6.333769e+06  2.148151e+06                    419   \n",
            "1     NaN   FRESNO  6.330750e+06  2.185454e+06                    663   \n",
            "2     NaN   FRESNO  6.330924e+06  2.147017e+06                    890   \n",
            "3     NaN   FRESNO  6.341971e+06  2.155858e+06                    796   \n",
            "4     NaN   FRESNO  6.330893e+06  2.147551e+06                   1340   \n",
            "\n",
            "  distance_to_nearest_bus_stop                  Stop Name Stop ID  \\\n",
            "0                  1033.942005  NE VAN NESS - LOS ANGELES     641   \n",
            "1                   835.870295             Sierra Station    1005   \n",
            "2                  1381.966463            SW ELM - GENEVA    1314   \n",
            "3                  1275.022686        SW MAPLE - MCKENZIE    1186   \n",
            "4                  1681.981433           ELM - SAN BENITO    2023   \n",
            "\n",
            "  Stop Latitiude Stop Longtitude  \n",
            "0      36.727010     -119.780652  \n",
            "1      36.829859     -119.790481  \n",
            "2      36.720444     -119.791438  \n",
            "3      36.746804     -119.745533  \n",
            "4      36.721744     -119.792609  \n",
            "\n",
            "[5 rows x 47 columns]\n",
            "Summary of distances to nearest bus stops:\n",
            "count    271908.000000\n",
            "mean       1674.143721\n",
            "std        2231.798906\n",
            "min           2.098719\n",
            "25%         500.005195\n",
            "50%         908.740478\n",
            "75%        1864.376261\n",
            "max       38748.215265\n",
            "Name: distance_to_nearest_bus_stop, dtype: float64\n",
            "Potential outliers:\n",
            "                                              WKT        APN  APNLEVEL  \\\n",
            "0       POINT (6333768.94681497 2148150.87740372)   46824013         1   \n",
            "2       POINT (6330924.28550956 2147016.87835939)   46713309         1   \n",
            "3       POINT (6341970.65154013 2155858.45614864)        NaN         1   \n",
            "4       POINT (6330892.58511364 2147551.48949489)        NaN         1   \n",
            "9       POINT (6328925.43484847 2149684.23293281)   46707407         1   \n",
            "...                                           ...        ...       ...   \n",
            "271901   POINT (6292744.64992672 2175342.0874569)  51202150S         1   \n",
            "271902  POINT (6292691.87214513 2175355.97653672)  51202150S         1   \n",
            "271903  POINT (6363563.73236963 2159473.23008706)   31013107         1   \n",
            "271904  POINT (6343828.24953097 2145821.10450423)   48008012         1   \n",
            "271905   POINT (6343826.1662018 2145830.21898732)   48008012         1   \n",
            "\n",
            "                         ADDRESS  ADRNUM ADRDIR ADRNAME ADRSUFF ADRAPT  \\\n",
            "0                     37 53 L ST      37              L      ST    NaN   \n",
            "2                       208 E ST     208              E      ST    NaN   \n",
            "3           278 N BARTON AVE L/S     278      N  BARTON     AVE    NaN   \n",
            "4                       328 F ST     328              F      ST    NaN   \n",
            "9                       911 F ST     911              F      ST    NaN   \n",
            "...                          ...     ...    ...     ...     ...    ...   \n",
            "271901         7120 W DONNER AVE    7120      W  DONNER     AVE    NaN   \n",
            "271902         7132 W DONNER AVE    7132      W  DONNER     AVE    NaN   \n",
            "271903      6325 E OLIVE AVE S/A    6325      E   OLIVE     AVE    NaN   \n",
            "271904  2255 S MAPLE AVE APT 146    2255      S   MAPLE     AVE    146   \n",
            "271905  2255 S MAPLE AVE APT 246    2255      S   MAPLE     AVE    246   \n",
            "\n",
            "            ZIP  ... adrpdir  adrcity       shape_X       shape_Y  \\\n",
            "0       93721.0  ...     NaN   FRESNO  6.333769e+06  2.148151e+06   \n",
            "2       93706.0  ...     NaN   FRESNO  6.330924e+06  2.147017e+06   \n",
            "3       93702.0  ...     NaN   FRESNO  6.341971e+06  2.155858e+06   \n",
            "4       93706.0  ...     NaN   FRESNO  6.330893e+06  2.147551e+06   \n",
            "9       93706.0  ...     NaN   FRESNO  6.328925e+06  2.149684e+06   \n",
            "...         ...  ...     ...      ...           ...           ...   \n",
            "271901  93723.0  ...     NaN   FRESNO  6.292745e+06  2.175342e+06   \n",
            "271902  93723.0  ...     NaN   FRESNO  6.292692e+06  2.175356e+06   \n",
            "271903  93727.0  ...     NaN      NaN  6.363564e+06  2.159473e+06   \n",
            "271904  93725.0  ...     NaN   FRESNO  6.343828e+06  2.145821e+06   \n",
            "271905  93725.0  ...     NaN   FRESNO  6.343826e+06  2.145830e+06   \n",
            "\n",
            "       nearest_bus_stop_index distance_to_nearest_bus_stop  \\\n",
            "0                         419                  1033.942005   \n",
            "2                         890                  1381.966463   \n",
            "3                         796                  1275.022686   \n",
            "4                        1340                  1681.981433   \n",
            "9                        1074                  1129.161033   \n",
            "...                       ...                          ...   \n",
            "271901                   1486                  3315.364513   \n",
            "271902                   1486                  3369.937479   \n",
            "271903                   1336                  6983.718619   \n",
            "271904                   1121                  1880.084559   \n",
            "271905                   1121                  1889.431962   \n",
            "\n",
            "                        Stop Name Stop ID Stop Latitiude Stop Longtitude  \n",
            "0       NE VAN NESS - LOS ANGELES     641      36.727010     -119.780652  \n",
            "2                 SW ELM - GENEVA    1314      36.720444     -119.791438  \n",
            "3             SW MAPLE - MCKENZIE    1186      36.746804     -119.745533  \n",
            "4                ELM - SAN BENITO    2023      36.721744     -119.792609  \n",
            "9                 SW H ST -- KERN    1570      36.731074     -119.790843  \n",
            "...                           ...     ...            ...             ...  \n",
            "271901    SW BRYAN - TENNIS COURT    2416      36.796884     -119.907576  \n",
            "271902    SW BRYAN - TENNIS COURT    2416      36.796884     -119.907576  \n",
            "271903      SW PRINCETON - FOWLER    2012      36.775710     -119.682611  \n",
            "271904   NW CHURCH - SIERRA VISTA    1627      36.714269     -119.741936  \n",
            "271905   NW CHURCH - SIERRA VISTA    1627      36.714269     -119.741936  \n",
            "\n",
            "[124369 rows x 47 columns]\n",
            "Updated dataset saved as 'addresses_with_bus_stops.csv'\n"
          ]
        },
        {
          "output_type": "execute_result",
          "data": {
            "text/plain": [
              "'\\n\\n\\n# encode for categorical data\\n# set up deep learning algorithm\\n## input layer\\n## hidden layer\\n## output layer\\n## determine loss function/activation\\n## determine effective\\n\\n\\n# output: predicted coordinates of future bus stops\\n\\n'"
            ],
            "application/vnd.google.colaboratory.intrinsic+json": {
              "type": "string"
            }
          },
          "metadata": {},
          "execution_count": 6
        }
      ],
      "source": [
        "'''\n",
        "\n",
        "# import datasets\n",
        "# data = pd.read_csv('/content/fresno-addresses.csv')\n",
        "# bus_stop = pd.read_csv('/content/bus_stops.csv')\n",
        "\n",
        "### Kyle to take this part: ###\n",
        "#### Note: Gemini was used in certain parts of this coding section\n",
        "#### primarily for developing the Nearest Neighbor Search for determining which bus_stop\n",
        "#### is in closest proximity to any one specific address?\n",
        "#### This was done considering the shape x and y coordinates to help determine distance\n",
        "#### using the nearest neighbor methods for comparison.\n",
        "#### details on K-Decision Trees can be found here: https://en.wikipedia.org/wiki/K-d_tree\n",
        "\n",
        "\n",
        "# Determine bus_stops that are closest in proximity to each address\n",
        "# based on lat/long coordinates (threshold = 1/4 mile? or the closest bus stop for the house listed)\n",
        "# Take the closest bus_stop (only 1 bus_stop for each address row line in the main dataset)\n",
        "import numpy as np\n",
        "import pandas as pd\n",
        "\n",
        "'''\n",
        "from scipy.spatial import cKDTree\n",
        "\n",
        "'''\n",
        "\n",
        "#### data sets already loaded at the top cell - Ojas\n",
        "\n",
        "    #addresses = pd.read_csv('/fresno_addresses_data.csv')\n",
        "    #bus_stops = pd.read_csv('/bus_stop_data.csv')\n",
        "\n",
        "# --- Nearest Neighbor Search using cKDTree ---\n",
        "\n",
        "# 1. Prepare data for cKDTree\n",
        "bus_stop_coords = bus_stops[['x', 'y']].values  # Bus stop coordinates\n",
        "address_coords = addresses[['shape_X', 'shape_Y']].values    # Address coordinates\n",
        "\n",
        "# 2. Create a cKDTree for bus stop coordinates\n",
        "tree = cKDTree(bus_stop_coords)\n",
        "\n",
        "# 3. Query the tree for nearest neighbors of each address\n",
        "distances, indices = tree.query(address_coords, k=1)  # k=1 for nearest neighbor\n",
        "\n",
        "# 4. Add the nearest bus stop index to the 'addresses' DataFrame\n",
        "addresses['nearest_bus_stop_index'] = indices\n",
        "\n",
        "# Merge relevant columns from 'bus_stops' into 'addresses'\n",
        "bus_stop_cols_to_merge = ['Stop Name', 'Stop ID','Stop Latitiude', 'Stop Longtitude']  # Choose relevant columns\n",
        "addresses = pd.merge(addresses, bus_stops[bus_stop_cols_to_merge],\n",
        "                     left_on='nearest_bus_stop_index', right_index=True,\n",
        "                     suffixes=('', '_bus_stop'))\n",
        "\n",
        "# Display the merged DataFrame\n",
        "print(addresses.head())\n",
        "\n",
        "# Save the merged DataFrame to a new CSV file (optional)\n",
        "addresses.to_csv('addresses_with_bus_stops.csv', index=False)\n",
        "\n",
        "'''\n",
        "\n",
        "#####  OJAS - suggestion for -\n",
        "\n",
        "# Prepare coordinate data for cKDTree\n",
        "bus_stop_coords = bus_stops[['x', 'y']].values  # Replace with correct column names\n",
        "address_coords = addresses[['shape_X', 'shape_Y']].values  # Replace with correct column names\n",
        "\n",
        "# Create a cKDTree and find nearest neighbors\n",
        "tree = cKDTree(bus_stop_coords)\n",
        "distances, indices = tree.query(address_coords, k=1)  # k=1 for nearest neighbor\n",
        "\n",
        "# Add nearest bus stop index and distance to the addresses DataFrame\n",
        "addresses['nearest_bus_stop_index'] = indices\n",
        "addresses['distance_to_nearest_bus_stop'] = distances\n",
        "\n",
        "# Adjust columns to merge\n",
        "bus_stop_cols_to_merge = ['Stop Name', 'Stop ID', 'Stop Latitiude', 'Stop Longtitude']  # Using exact column names from dataset\n",
        "\n",
        "# Merge bus stop data into addresses\n",
        "addresses = pd.merge(\n",
        "    addresses,\n",
        "    bus_stops.reset_index()[bus_stop_cols_to_merge],\n",
        "    left_on='nearest_bus_stop_index',\n",
        "    right_index=True,\n",
        "    suffixes=('', '_bus_stop')\n",
        ")\n",
        "\n",
        "# Validate the merge\n",
        "print(addresses.head())\n",
        "\n",
        "# Summary of distances to nearest bus stops\n",
        "print(\"Summary of distances to nearest bus stops:\")\n",
        "print(addresses['distance_to_nearest_bus_stop'].describe())\n",
        "\n",
        "# Check for any anomalies (e.g., very large distances indicating outliers)\n",
        "print(\"Potential outliers:\")\n",
        "print(addresses[addresses['distance_to_nearest_bus_stop'] > 1000])  # Adjust threshold as needed\n",
        "\n",
        "# Save the updated addresses dataset with nearest bus stops\n",
        "addresses.to_csv('addresses_with_bus_stops.csv', index=False)\n",
        "print(\"Updated dataset saved as 'addresses_with_bus_stops.csv'\")\n",
        "\n",
        "\n",
        "'''\n",
        "\n",
        "\n",
        "# encode for categorical data\n",
        "# set up deep learning algorithm\n",
        "## input layer\n",
        "## hidden layer\n",
        "## output layer\n",
        "## determine loss function/activation\n",
        "## determine effective\n",
        "\n",
        "\n",
        "# output: predicted coordinates of future bus stops\n",
        "\n",
        "'''"
      ]
    },
    {
      "cell_type": "markdown",
      "metadata": {
        "id": "odRAc4LUQbFj"
      },
      "source": []
    },
    {
      "cell_type": "code",
      "execution_count": null,
      "metadata": {
        "colab": {
          "base_uri": "https://localhost:8080/"
        },
        "id": "8Qqif9CTQdNY",
        "outputId": "5098e640-94ab-4462-e149-4f54dd8894bb"
      },
      "outputs": [
        {
          "output_type": "stream",
          "name": "stdout",
          "text": [
            "<class 'pandas.core.frame.DataFrame'>\n",
            "RangeIndex: 271908 entries, 0 to 271907\n",
            "Data columns (total 53 columns):\n",
            " #   Column                        Non-Null Count   Dtype  \n",
            "---  ------                        --------------   -----  \n",
            " 0   WKT                           271908 non-null  object \n",
            " 1   APN                           269035 non-null  object \n",
            " 2   APNLEVEL                      271908 non-null  int64  \n",
            " 3   ADDRESS                       271908 non-null  object \n",
            " 4   ADRNUM                        271908 non-null  int64  \n",
            " 5   ADRDIR                        263270 non-null  object \n",
            " 6   ADRNAME                       271908 non-null  object \n",
            " 7   ADRSUFF                       267088 non-null  object \n",
            " 8   ADRAPT                        84412 non-null   object \n",
            " 9   ZIP                           271903 non-null  float64\n",
            " 10  ANNEX_DATE                    269677 non-null  object \n",
            " 11  COUNCIL_DISTRICT              269677 non-null  float64\n",
            " 12  SCHOOL_DISTRICT               269677 non-null  object \n",
            " 13  PD_DISTRICT                   259901 non-null  object \n",
            " 14  EXISTING_LAND_USE             253623 non-null  object \n",
            " 15  EXISTING_LAND_USE_TEXT        253623 non-null  object \n",
            " 16  PLANNED_LAND_USE              269677 non-null  object \n",
            " 17  PLANNED_LAND_USE_TEXT         269677 non-null  object \n",
            " 18  COMMUNITY_PLAN_AREA           251504 non-null  object \n",
            " 19  SPECIFIC_PLAN                 29686 non-null   object \n",
            " 20  INSIDE_CITY                   269677 non-null  object \n",
            " 21  SWEEP_DAY                     237645 non-null  object \n",
            " 22  CENSUS_TRACT                  269675 non-null  float64\n",
            " 23  CENSUS_BLOCK                  269675 non-null  float64\n",
            " 24  CODE_ENFORCEMENT_AREA         243537 non-null  object \n",
            " 25  DEV_INSPECTION_AREA           260847 non-null  object \n",
            " 26  TRACT_PARCEL_MAP_ID           53411 non-null   object \n",
            " 27  TRACT_PARCEL_MAP_BLOCK        0 non-null       float64\n",
            " 28  TRACT_PARCEL_MAP_LOT          53124 non-null   object \n",
            " 29  FLOOD_INS_RATE_MAP_MAPNO      258564 non-null  object \n",
            " 30  BUSINESS_IMP_BENEFIT_ZONE     1127 non-null    object \n",
            " 31  COMMUNITY_DEV_BLOCK_GRANT     269677 non-null  object \n",
            " 32  ENTERPRISE_ZONE               47063 non-null   object \n",
            " 33  CE_PROJECT_NAME               201465 non-null  object \n",
            " 34  ZONING_STRING                 234639 non-null  object \n",
            " 35  ADRID                         271908 non-null  int64  \n",
            " 36  adrfrac                       2444 non-null    object \n",
            " 37  adrpdir                       1266 non-null    object \n",
            " 38  adrcity                       271885 non-null  object \n",
            " 39  shape_X                       271908 non-null  float64\n",
            " 40  shape_Y                       271908 non-null  float64\n",
            " 41  nearest_bus_stop_index        271908 non-null  int64  \n",
            " 42  distance_to_nearest_bus_stop  271908 non-null  float64\n",
            " 43  Stop Name                     271908 non-null  object \n",
            " 44  Stop ID                       271908 non-null  int64  \n",
            " 45  Stop Latitiude                271908 non-null  float64\n",
            " 46  Stop Longtitude               271908 non-null  float64\n",
            " 47  ObjectId                      234465 non-null  float64\n",
            " 48  Zoning                        234465 non-null  object \n",
            " 49  Zoning Description            234465 non-null  object \n",
            " 50  Zoning Overlay                234464 non-null  object \n",
            " 51  Shape__Area                   234465 non-null  float64\n",
            " 52  Shape__Length                 234465 non-null  float64\n",
            "dtypes: float64(13), int64(5), object(35)\n",
            "memory usage: 109.9+ MB\n",
            "None\n",
            "                                         WKT       APN  APNLEVEL  \\\n",
            "0  POINT (6333768.94681497 2148150.87740372)  46824013         1   \n",
            "1  POINT (6330750.41216964 2185454.07543498)  40915028         1   \n",
            "2  POINT (6330924.28550956 2147016.87835939)  46713309         1   \n",
            "3  POINT (6341970.65154013 2155858.45614864)       NaN         1   \n",
            "4  POINT (6330892.58511364 2147551.48949489)       NaN         1   \n",
            "\n",
            "                ADDRESS  ADRNUM ADRDIR  ADRNAME ADRSUFF ADRAPT      ZIP  ...  \\\n",
            "0            37 53 L ST      37               L      ST    NaN  93721.0  ...   \n",
            "1      66 E ESCALON AVE      66      E  ESCALON     AVE    NaN  93710.0  ...   \n",
            "2              208 E ST     208               E      ST    NaN  93706.0  ...   \n",
            "3  278 N BARTON AVE L/S     278      N   BARTON     AVE    NaN  93702.0  ...   \n",
            "4              328 F ST     328               F      ST    NaN  93706.0  ...   \n",
            "\n",
            "                   Stop Name  Stop ID Stop Latitiude Stop Longtitude  \\\n",
            "0  NE VAN NESS - LOS ANGELES      641      36.727010     -119.780652   \n",
            "1             Sierra Station     1005      36.829859     -119.790481   \n",
            "2            SW ELM - GENEVA     1314      36.720444     -119.791438   \n",
            "3        SW MAPLE - MCKENZIE     1186      36.746804     -119.745533   \n",
            "4           ELM - SAN BENITO     2023      36.721744     -119.792609   \n",
            "\n",
            "   ObjectId Zoning                         Zoning Description Zoning Overlay  \\\n",
            "0  107334.0     IH                           Heavy Industrial             IH   \n",
            "1    2115.0    CMX                  Corridor/Center Mixed Use            CMX   \n",
            "2   71708.0   RS-5  Residential Single-Family, Medium Density        RS-5/NR   \n",
            "3       NaN    NaN                                        NaN            NaN   \n",
            "4       NaN    NaN                                        NaN            NaN   \n",
            "\n",
            "     Shape__Area Shape__Length  \n",
            "0   25637.957031    654.031116  \n",
            "1  153251.411133   1787.485149  \n",
            "2   14999.935547    500.000197  \n",
            "3            NaN           NaN  \n",
            "4            NaN           NaN  \n",
            "\n",
            "[5 rows x 53 columns]\n"
          ]
        }
      ],
      "source": [
        "# Merge zoning data with addresses based on APN\n",
        "addresses = pd.merge(addresses, zoning, how='left', on='APN')\n",
        "\n",
        "# Validate the merge\n",
        "print(addresses.info())\n",
        "print(addresses.head())\n",
        "\n"
      ]
    },
    {
      "cell_type": "code",
      "execution_count": null,
      "metadata": {
        "colab": {
          "base_uri": "https://localhost:8080/"
        },
        "id": "WcpitwVkRAqE",
        "outputId": "9fbf938c-832f-41d8-990c-7e8a3afebb83"
      },
      "outputs": [
        {
          "output_type": "stream",
          "name": "stdout",
          "text": [
            "Number of addresses without zoning after spatial proximity: 37443\n"
          ]
        }
      ],
      "source": [
        "from scipy.spatial import cKDTree\n",
        "\n",
        "# Filter unmatched rows\n",
        "unmatched = addresses[addresses['Zoning'].isnull()].copy()  # Explicitly make a copy to avoid warnings\n",
        "\n",
        "# Prepare zoning and unmatched address coordinates\n",
        "zoning_coords = zoning[['Shape__Area', 'Shape__Length']].values  # Replace with correct coordinate columns\n",
        "unmatched_coords = unmatched[['shape_X', 'shape_Y']].values  # Replace with correct coordinate columns\n",
        "\n",
        "# Create cKDTree for zoning coordinates\n",
        "tree = cKDTree(zoning_coords)\n",
        "\n",
        "# Query the nearest zoning for each unmatched address\n",
        "distances, indices = tree.query(unmatched_coords, k=1)\n",
        "\n",
        "# Assign nearest zoning attributes to unmatched rows\n",
        "unmatched.loc[:, 'nearest_zone_index'] = indices\n",
        "\n",
        "# Merge zoning attributes into unmatched DataFrame\n",
        "unmatched = pd.merge(\n",
        "    unmatched,\n",
        "    zoning.reset_index(),\n",
        "    left_on='nearest_zone_index',\n",
        "    right_index=True,\n",
        "    suffixes=('', '_zone')\n",
        ")\n",
        "\n",
        "# Update the main addresses DataFrame\n",
        "addresses.update(unmatched)\n",
        "\n",
        "# Check updated dataset\n",
        "print(f\"Number of addresses without zoning after spatial proximity: {addresses['Zoning'].isnull().sum()}\")\n"
      ]
    },
    {
      "cell_type": "code",
      "execution_count": null,
      "metadata": {
        "colab": {
          "base_uri": "https://localhost:8080/"
        },
        "id": "uUCOKCmpTtH-",
        "outputId": "6ededc65-4e69-4b1d-b9e6-e6a8635a0603"
      },
      "outputs": [
        {
          "output_type": "stream",
          "name": "stdout",
          "text": [
            "Zoning                37443\n",
            "Zoning Description    37443\n",
            "Zoning Overlay        37444\n",
            "dtype: int64\n"
          ]
        }
      ],
      "source": [
        "print(addresses[['Zoning', 'Zoning Description', 'Zoning Overlay']].isnull().sum())\n"
      ]
    },
    {
      "cell_type": "code",
      "execution_count": null,
      "metadata": {
        "colab": {
          "base_uri": "https://localhost:8080/",
          "height": 17
        },
        "id": "Nlpaf0XZUNYH",
        "outputId": "6a890196-6d28-43e3-febb-2a1fa10993a6"
      },
      "outputs": [
        {
          "output_type": "display_data",
          "data": {
            "text/plain": [
              "<IPython.core.display.Javascript object>"
            ],
            "application/javascript": [
              "\n",
              "    async function download(id, filename, size) {\n",
              "      if (!google.colab.kernel.accessAllowed) {\n",
              "        return;\n",
              "      }\n",
              "      const div = document.createElement('div');\n",
              "      const label = document.createElement('label');\n",
              "      label.textContent = `Downloading \"${filename}\": `;\n",
              "      div.appendChild(label);\n",
              "      const progress = document.createElement('progress');\n",
              "      progress.max = size;\n",
              "      div.appendChild(progress);\n",
              "      document.body.appendChild(div);\n",
              "\n",
              "      const buffers = [];\n",
              "      let downloaded = 0;\n",
              "\n",
              "      const channel = await google.colab.kernel.comms.open(id);\n",
              "      // Send a message to notify the kernel that we're ready.\n",
              "      channel.send({})\n",
              "\n",
              "      for await (const message of channel.messages) {\n",
              "        // Send a message to notify the kernel that we're ready.\n",
              "        channel.send({})\n",
              "        if (message.buffers) {\n",
              "          for (const buffer of message.buffers) {\n",
              "            buffers.push(buffer);\n",
              "            downloaded += buffer.byteLength;\n",
              "            progress.value = downloaded;\n",
              "          }\n",
              "        }\n",
              "      }\n",
              "      const blob = new Blob(buffers, {type: 'application/binary'});\n",
              "      const a = document.createElement('a');\n",
              "      a.href = window.URL.createObjectURL(blob);\n",
              "      a.download = filename;\n",
              "      div.appendChild(a);\n",
              "      a.click();\n",
              "      div.remove();\n",
              "    }\n",
              "  "
            ]
          },
          "metadata": {}
        },
        {
          "output_type": "display_data",
          "data": {
            "text/plain": [
              "<IPython.core.display.Javascript object>"
            ],
            "application/javascript": [
              "download(\"download_a4b66530-00be-4d24-b4f2-22369a496767\", \"updated_addresses.csv\", 130031990)"
            ]
          },
          "metadata": {}
        },
        {
          "output_type": "display_data",
          "data": {
            "text/plain": [
              "<IPython.core.display.Javascript object>"
            ],
            "application/javascript": [
              "\n",
              "    async function download(id, filename, size) {\n",
              "      if (!google.colab.kernel.accessAllowed) {\n",
              "        return;\n",
              "      }\n",
              "      const div = document.createElement('div');\n",
              "      const label = document.createElement('label');\n",
              "      label.textContent = `Downloading \"${filename}\": `;\n",
              "      div.appendChild(label);\n",
              "      const progress = document.createElement('progress');\n",
              "      progress.max = size;\n",
              "      div.appendChild(progress);\n",
              "      document.body.appendChild(div);\n",
              "\n",
              "      const buffers = [];\n",
              "      let downloaded = 0;\n",
              "\n",
              "      const channel = await google.colab.kernel.comms.open(id);\n",
              "      // Send a message to notify the kernel that we're ready.\n",
              "      channel.send({})\n",
              "\n",
              "      for await (const message of channel.messages) {\n",
              "        // Send a message to notify the kernel that we're ready.\n",
              "        channel.send({})\n",
              "        if (message.buffers) {\n",
              "          for (const buffer of message.buffers) {\n",
              "            buffers.push(buffer);\n",
              "            downloaded += buffer.byteLength;\n",
              "            progress.value = downloaded;\n",
              "          }\n",
              "        }\n",
              "      }\n",
              "      const blob = new Blob(buffers, {type: 'application/binary'});\n",
              "      const a = document.createElement('a');\n",
              "      a.href = window.URL.createObjectURL(blob);\n",
              "      a.download = filename;\n",
              "      div.appendChild(a);\n",
              "      a.click();\n",
              "      div.remove();\n",
              "    }\n",
              "  "
            ]
          },
          "metadata": {}
        },
        {
          "output_type": "display_data",
          "data": {
            "text/plain": [
              "<IPython.core.display.Javascript object>"
            ],
            "application/javascript": [
              "download(\"download_9560f59c-4835-4cac-8542-eb8fc6eef422\", \"updated_zoning.csv\", 15007058)"
            ]
          },
          "metadata": {}
        }
      ],
      "source": [
        "# Save the updated addresses dataset\n",
        "addresses.to_csv('updated_addresses.csv', index=False)\n",
        "\n",
        "# Save the updated zoning dataset (if it has been modified)\n",
        "zoning.to_csv('updated_zoning.csv', index=False)\n",
        "\n",
        "# Code to download the files in Google Colab\n",
        "from google.colab import files\n",
        "\n",
        "# Download the files\n",
        "# files.download('updated_addresses.csv')\n",
        "# files.download('updated_zoning.csv')\n"
      ]
    },
    {
      "cell_type": "code",
      "execution_count": null,
      "metadata": {
        "colab": {
          "base_uri": "https://localhost:8080/"
        },
        "id": "Rj7C2rC4VOL7",
        "outputId": "0016faba-d598-424b-ebd2-870ddadcdd2c"
      },
      "outputs": [
        {
          "output_type": "stream",
          "name": "stdout",
          "text": [
            "Updated Addresses Dataset:\n",
            "                                         WKT       APN  APNLEVEL  \\\n",
            "0  POINT (6333768.94681497 2148150.87740372)  46824013         1   \n",
            "1  POINT (6330750.41216964 2185454.07543498)  40915028         1   \n",
            "2  POINT (6330924.28550956 2147016.87835939)  46713309         1   \n",
            "3  POINT (6341970.65154013 2155858.45614864)       NaN         1   \n",
            "4  POINT (6330892.58511364 2147551.48949489)       NaN         1   \n",
            "\n",
            "                ADDRESS  ADRNUM ADRDIR  ADRNAME ADRSUFF ADRAPT      ZIP  ...  \\\n",
            "0            37 53 L ST      37               L      ST    NaN  93721.0  ...   \n",
            "1      66 E ESCALON AVE      66      E  ESCALON     AVE    NaN  93710.0  ...   \n",
            "2              208 E ST     208               E      ST    NaN  93706.0  ...   \n",
            "3  278 N BARTON AVE L/S     278      N   BARTON     AVE    NaN  93702.0  ...   \n",
            "4              328 F ST     328               F      ST    NaN  93706.0  ...   \n",
            "\n",
            "                   Stop Name  Stop ID Stop Latitiude Stop Longtitude  \\\n",
            "0  NE VAN NESS - LOS ANGELES      641      36.727010     -119.780652   \n",
            "1             Sierra Station     1005      36.829859     -119.790481   \n",
            "2            SW ELM - GENEVA     1314      36.720444     -119.791438   \n",
            "3        SW MAPLE - MCKENZIE     1186      36.746804     -119.745533   \n",
            "4           ELM - SAN BENITO     2023      36.721744     -119.792609   \n",
            "\n",
            "   ObjectId Zoning                         Zoning Description Zoning Overlay  \\\n",
            "0  107334.0     IH                           Heavy Industrial             IH   \n",
            "1    2115.0    CMX                  Corridor/Center Mixed Use            CMX   \n",
            "2   71708.0   RS-5  Residential Single-Family, Medium Density        RS-5/NR   \n",
            "3       NaN    NaN                                        NaN            NaN   \n",
            "4       NaN    NaN                                        NaN            NaN   \n",
            "\n",
            "     Shape__Area Shape__Length  \n",
            "0   25637.957031    654.031116  \n",
            "1  153251.411133   1787.485149  \n",
            "2   14999.935547    500.000197  \n",
            "3            NaN           NaN  \n",
            "4            NaN           NaN  \n",
            "\n",
            "[5 rows x 53 columns]\n",
            "\n",
            "Updated Zoning Dataset:\n",
            "   ObjectId       APN Zoning         Zoning Description Zoning Overlay  \\\n",
            "0      1937  40919124    CMX  Corridor/Center Mixed Use            CMX   \n",
            "1      1938  40919125    CMX  Corridor/Center Mixed Use            CMX   \n",
            "2      1939  40919201    CMX  Corridor/Center Mixed Use            CMX   \n",
            "3      1940  40919202    CMX  Corridor/Center Mixed Use            CMX   \n",
            "4      1941  40919203    CMX  Corridor/Center Mixed Use            CMX   \n",
            "\n",
            "    Shape__Area  Shape__Length  \n",
            "0   8172.141602     367.079445  \n",
            "1  40699.310547     938.639687  \n",
            "2   8943.123047     388.505128  \n",
            "3   8941.930664     388.472979  \n",
            "4   8940.733398     388.441485  \n",
            "\n",
            "Addresses Dataset Info:\n",
            "<class 'pandas.core.frame.DataFrame'>\n",
            "RangeIndex: 271908 entries, 0 to 271907\n",
            "Data columns (total 53 columns):\n",
            " #   Column                        Non-Null Count   Dtype  \n",
            "---  ------                        --------------   -----  \n",
            " 0   WKT                           271908 non-null  object \n",
            " 1   APN                           269035 non-null  object \n",
            " 2   APNLEVEL                      271908 non-null  int64  \n",
            " 3   ADDRESS                       271908 non-null  object \n",
            " 4   ADRNUM                        271908 non-null  int64  \n",
            " 5   ADRDIR                        263270 non-null  object \n",
            " 6   ADRNAME                       271908 non-null  object \n",
            " 7   ADRSUFF                       267088 non-null  object \n",
            " 8   ADRAPT                        84412 non-null   object \n",
            " 9   ZIP                           271903 non-null  float64\n",
            " 10  ANNEX_DATE                    269677 non-null  object \n",
            " 11  COUNCIL_DISTRICT              269677 non-null  float64\n",
            " 12  SCHOOL_DISTRICT               269677 non-null  object \n",
            " 13  PD_DISTRICT                   259901 non-null  object \n",
            " 14  EXISTING_LAND_USE             253623 non-null  object \n",
            " 15  EXISTING_LAND_USE_TEXT        253623 non-null  object \n",
            " 16  PLANNED_LAND_USE              269677 non-null  object \n",
            " 17  PLANNED_LAND_USE_TEXT         269677 non-null  object \n",
            " 18  COMMUNITY_PLAN_AREA           251504 non-null  object \n",
            " 19  SPECIFIC_PLAN                 29686 non-null   object \n",
            " 20  INSIDE_CITY                   269677 non-null  object \n",
            " 21  SWEEP_DAY                     237645 non-null  object \n",
            " 22  CENSUS_TRACT                  269675 non-null  float64\n",
            " 23  CENSUS_BLOCK                  269675 non-null  float64\n",
            " 24  CODE_ENFORCEMENT_AREA         243537 non-null  object \n",
            " 25  DEV_INSPECTION_AREA           260847 non-null  object \n",
            " 26  TRACT_PARCEL_MAP_ID           53411 non-null   object \n",
            " 27  TRACT_PARCEL_MAP_BLOCK        0 non-null       float64\n",
            " 28  TRACT_PARCEL_MAP_LOT          53124 non-null   object \n",
            " 29  FLOOD_INS_RATE_MAP_MAPNO      258564 non-null  object \n",
            " 30  BUSINESS_IMP_BENEFIT_ZONE     1127 non-null    object \n",
            " 31  COMMUNITY_DEV_BLOCK_GRANT     269677 non-null  object \n",
            " 32  ENTERPRISE_ZONE               47063 non-null   object \n",
            " 33  CE_PROJECT_NAME               201465 non-null  object \n",
            " 34  ZONING_STRING                 234639 non-null  object \n",
            " 35  ADRID                         271908 non-null  int64  \n",
            " 36  adrfrac                       2444 non-null    object \n",
            " 37  adrpdir                       1266 non-null    object \n",
            " 38  adrcity                       271885 non-null  object \n",
            " 39  shape_X                       271908 non-null  float64\n",
            " 40  shape_Y                       271908 non-null  float64\n",
            " 41  nearest_bus_stop_index        271908 non-null  int64  \n",
            " 42  distance_to_nearest_bus_stop  271908 non-null  float64\n",
            " 43  Stop Name                     271908 non-null  object \n",
            " 44  Stop ID                       271908 non-null  int64  \n",
            " 45  Stop Latitiude                271908 non-null  float64\n",
            " 46  Stop Longtitude               271908 non-null  float64\n",
            " 47  ObjectId                      234465 non-null  float64\n",
            " 48  Zoning                        234465 non-null  object \n",
            " 49  Zoning Description            234465 non-null  object \n",
            " 50  Zoning Overlay                234464 non-null  object \n",
            " 51  Shape__Area                   234465 non-null  float64\n",
            " 52  Shape__Length                 234465 non-null  float64\n",
            "dtypes: float64(13), int64(5), object(35)\n",
            "memory usage: 109.9+ MB\n",
            "None\n",
            "\n",
            "Zoning Dataset Info:\n",
            "<class 'pandas.core.frame.DataFrame'>\n",
            "RangeIndex: 145730 entries, 0 to 145729\n",
            "Data columns (total 7 columns):\n",
            " #   Column              Non-Null Count   Dtype  \n",
            "---  ------              --------------   -----  \n",
            " 0   ObjectId            145730 non-null  int64  \n",
            " 1   APN                 145730 non-null  object \n",
            " 2   Zoning              145730 non-null  object \n",
            " 3   Zoning Description  145730 non-null  object \n",
            " 4   Zoning Overlay      145726 non-null  object \n",
            " 5   Shape__Area         145730 non-null  float64\n",
            " 6   Shape__Length       145730 non-null  float64\n",
            "dtypes: float64(2), int64(1), object(4)\n",
            "memory usage: 7.8+ MB\n",
            "None\n"
          ]
        }
      ],
      "source": [
        "# Print the first few rows of the datasets\n",
        "print(\"Updated Addresses Dataset:\")\n",
        "print(addresses.head())\n",
        "\n",
        "print(\"\\nUpdated Zoning Dataset:\")\n",
        "print(zoning.head())\n",
        "\n",
        "# Print the structure of the datasets\n",
        "print(\"\\nAddresses Dataset Info:\")\n",
        "print(addresses.info())\n",
        "\n",
        "print(\"\\nZoning Dataset Info:\")\n",
        "print(zoning.info())\n"
      ]
    },
    {
      "cell_type": "markdown",
      "metadata": {
        "id": "sRd4eE4xHfaI"
      },
      "source": [
        "# **Data Cleaning And Feature Engineering**"
      ]
    },
    {
      "cell_type": "markdown",
      "metadata": {
        "id": "A0YAUm5CVb6T"
      },
      "source": [
        "## **1. Encode Categorical Data:**"
      ]
    },
    {
      "cell_type": "code",
      "execution_count": null,
      "metadata": {
        "colab": {
          "base_uri": "https://localhost:8080/"
        },
        "id": "Ad3jDlHQ5ASV",
        "outputId": "de122420-6a69-45f5-8feb-aaf5f0814fcc"
      },
      "outputs": [
        {
          "output_type": "stream",
          "name": "stdout",
          "text": [
            "   Zoning  Zoning Description  PLANNED_LAND_USE  EXISTING_LAND_USE\n",
            "0      11                  11                17                 14\n",
            "1       5                   7                 8                  3\n",
            "2      29                  27                56                 46\n",
            "3      30                  30                 0                 16\n",
            "4      30                  30                 0                 16\n"
          ]
        }
      ],
      "source": [
        "from sklearn.preprocessing import LabelEncoder\n",
        "\n",
        "# Encode zoning-related columns\n",
        "label_encoder = LabelEncoder()\n",
        "\n",
        "categorical_columns = ['Zoning', 'Zoning Description', 'PLANNED_LAND_USE', 'EXISTING_LAND_USE']\n",
        "for col in categorical_columns:\n",
        "    addresses[col] = label_encoder.fit_transform(addresses[col].astype(str))\n",
        "\n",
        "# Check encoding\n",
        "print(addresses[categorical_columns].head())\n"
      ]
    },
    {
      "cell_type": "markdown",
      "metadata": {
        "id": "i7lASwhoVw6q"
      },
      "source": [
        "## **2. Calculate Distance to City Center:**"
      ]
    },
    {
      "cell_type": "code",
      "execution_count": null,
      "metadata": {
        "colab": {
          "base_uri": "https://localhost:8080/"
        },
        "id": "kJmMY6FzVsg4",
        "outputId": "2e7d296b-90a5-434b-8786-9c08d71cff72"
      },
      "outputs": [
        {
          "output_type": "stream",
          "name": "stdout",
          "text": [
            "        shape_X       shape_Y  distance_to_city_center\n",
            "0  6.333769e+06  2.148151e+06              2221.428892\n",
            "1  6.330750e+06  2.185454e+06             35707.848741\n",
            "2  6.330924e+06  2.147017e+06              5050.788387\n",
            "3  6.341971e+06  2.155858e+06              9105.574740\n",
            "4  6.330893e+06  2.147551e+06              4781.847001\n"
          ]
        }
      ],
      "source": [
        "# Define city center coordinates (example)\n",
        "city_center = (6335000, 2150000)  # Replace with actual coordinates if available\n",
        "\n",
        "# Calculate Euclidean distance to city center\n",
        "addresses['distance_to_city_center'] = ((addresses['shape_X'] - city_center[0])**2 +\n",
        "                                        (addresses['shape_Y'] - city_center[1])**2)**0.5\n",
        "\n",
        "# Check the new feature\n",
        "print(addresses[['shape_X', 'shape_Y', 'distance_to_city_center']].head())\n"
      ]
    },
    {
      "cell_type": "markdown",
      "metadata": {
        "id": "brSoIceWV2EY"
      },
      "source": [
        "## **3. Add Parcel Size as a Feature:**\n"
      ]
    },
    {
      "cell_type": "code",
      "execution_count": null,
      "metadata": {
        "colab": {
          "base_uri": "https://localhost:8080/"
        },
        "id": "O6EfrZnGVz0s",
        "outputId": "51e4327d-e203-46bb-f91a-84751334bfef"
      },
      "outputs": [
        {
          "output_type": "stream",
          "name": "stdout",
          "text": [
            "     Shape__Area    parcel_size\n",
            "0   25637.957031   25637.957031\n",
            "1  153251.411133  153251.411133\n",
            "2   14999.935547   14999.935547\n",
            "3            NaN            NaN\n",
            "4            NaN            NaN\n"
          ]
        }
      ],
      "source": [
        "# Use Shape__Area as a proxy for parcel size\n",
        "addresses['parcel_size'] = addresses['Shape__Area']\n",
        "\n",
        "# Check the feature\n",
        "print(addresses[['Shape__Area', 'parcel_size']].head())\n"
      ]
    },
    {
      "cell_type": "markdown",
      "metadata": {
        "id": "zaz1kDdbWMDa"
      },
      "source": [
        "## **4. Infrastructure Density:**"
      ]
    },
    {
      "cell_type": "code",
      "execution_count": null,
      "metadata": {
        "colab": {
          "base_uri": "https://localhost:8080/"
        },
        "id": "8I_yReJ3WQhs",
        "outputId": "91cbf41e-f431-4717-ba7e-8e65f3bab736"
      },
      "outputs": [
        {
          "output_type": "stream",
          "name": "stdout",
          "text": [
            "   distance_to_nearest_bus_stop  infrastructure_density\n",
            "0                   1033.942005                      14\n",
            "1                    835.870295                      62\n",
            "2                   1381.966463                      26\n",
            "3                   1275.022686                      24\n",
            "4                   1681.981433                      22\n"
          ]
        }
      ],
      "source": [
        "\n",
        "# Define bin size (e.g., 500 meters)\n",
        "bin_size = 500\n",
        "\n",
        "# Create bins for X and Y coordinates\n",
        "addresses['x_bin'] = (addresses['shape_X'] // bin_size).astype(int)\n",
        "addresses['y_bin'] = (addresses['shape_Y'] // bin_size).astype(int)\n",
        "\n",
        "# Group by bins and count the number of parcels in each bin\n",
        "density = addresses.groupby(['x_bin', 'y_bin']).size().reset_index(name='infrastructure_density')\n",
        "\n",
        "# Merge density back into the main DataFrame\n",
        "addresses = pd.merge(addresses, density, on=['x_bin', 'y_bin'], how='left')\n",
        "\n",
        "# Drop temporary bin columns\n",
        "addresses.drop(['x_bin', 'y_bin'], axis=1, inplace=True)\n",
        "\n",
        "# Check results\n",
        "print(addresses[['distance_to_nearest_bus_stop', 'infrastructure_density']].head())\n"
      ]
    },
    {
      "cell_type": "markdown",
      "metadata": {
        "id": "fx9WDASsZTX4"
      },
      "source": [
        "# **Model Implementation**"
      ]
    },
    {
      "cell_type": "markdown",
      "source": [
        "## **A. Unweighted Baseline DNN Model**"
      ],
      "metadata": {
        "id": "szsP-iSFvL-R"
      }
    },
    {
      "cell_type": "code",
      "execution_count": null,
      "metadata": {
        "colab": {
          "base_uri": "https://localhost:8080/"
        },
        "id": "APKJ-R16Yw7M",
        "outputId": "18c67183-62a7-409b-c7ce-a8106d4fc127"
      },
      "outputs": [
        {
          "output_type": "stream",
          "name": "stdout",
          "text": [
            "Epoch 1/20\n"
          ]
        },
        {
          "output_type": "stream",
          "name": "stderr",
          "text": [
            "/usr/local/lib/python3.10/dist-packages/keras/src/layers/core/dense.py:87: UserWarning: Do not pass an `input_shape`/`input_dim` argument to a layer. When using Sequential models, prefer using an `Input(shape)` object as the first layer in the model instead.\n",
            "  super().__init__(activity_regularizer=activity_regularizer, **kwargs)\n"
          ]
        },
        {
          "output_type": "stream",
          "name": "stdout",
          "text": [
            "\u001b[1m4104/4104\u001b[0m \u001b[32m━━━━━━━━━━━━━━━━━━━━\u001b[0m\u001b[37m\u001b[0m \u001b[1m7s\u001b[0m 1ms/step - accuracy: 0.6562 - loss: 1.1479 - val_accuracy: 0.8070 - val_loss: 0.5476\n",
            "Epoch 2/20\n",
            "\u001b[1m4104/4104\u001b[0m \u001b[32m━━━━━━━━━━━━━━━━━━━━\u001b[0m\u001b[37m\u001b[0m \u001b[1m15s\u001b[0m 4ms/step - accuracy: 0.7969 - loss: 0.5889 - val_accuracy: 0.8235 - val_loss: 0.4953\n",
            "Epoch 3/20\n",
            "\u001b[1m4104/4104\u001b[0m \u001b[32m━━━━━━━━━━━━━━━━━━━━\u001b[0m\u001b[37m\u001b[0m \u001b[1m7s\u001b[0m 2ms/step - accuracy: 0.8113 - loss: 0.5288 - val_accuracy: 0.8325 - val_loss: 0.4601\n",
            "Epoch 4/20\n",
            "\u001b[1m4104/4104\u001b[0m \u001b[32m━━━━━━━━━━━━━━━━━━━━\u001b[0m\u001b[37m\u001b[0m \u001b[1m9s\u001b[0m 1ms/step - accuracy: 0.8188 - loss: 0.5016 - val_accuracy: 0.8313 - val_loss: 0.4471\n",
            "Epoch 5/20\n",
            "\u001b[1m4104/4104\u001b[0m \u001b[32m━━━━━━━━━━━━━━━━━━━━\u001b[0m\u001b[37m\u001b[0m \u001b[1m10s\u001b[0m 1ms/step - accuracy: 0.8202 - loss: 0.4919 - val_accuracy: 0.8368 - val_loss: 0.4351\n",
            "Epoch 6/20\n",
            "\u001b[1m4104/4104\u001b[0m \u001b[32m━━━━━━━━━━━━━━━━━━━━\u001b[0m\u001b[37m\u001b[0m \u001b[1m9s\u001b[0m 2ms/step - accuracy: 0.8248 - loss: 0.4776 - val_accuracy: 0.8366 - val_loss: 0.4405\n",
            "Epoch 7/20\n",
            "\u001b[1m4104/4104\u001b[0m \u001b[32m━━━━━━━━━━━━━━━━━━━━\u001b[0m\u001b[37m\u001b[0m \u001b[1m7s\u001b[0m 1ms/step - accuracy: 0.8296 - loss: 0.4638 - val_accuracy: 0.8431 - val_loss: 0.4242\n",
            "Epoch 8/20\n",
            "\u001b[1m4104/4104\u001b[0m \u001b[32m━━━━━━━━━━━━━━━━━━━━\u001b[0m\u001b[37m\u001b[0m \u001b[1m9s\u001b[0m 1ms/step - accuracy: 0.8325 - loss: 0.4554 - val_accuracy: 0.8434 - val_loss: 0.4159\n",
            "Epoch 9/20\n",
            "\u001b[1m4104/4104\u001b[0m \u001b[32m━━━━━━━━━━━━━━━━━━━━\u001b[0m\u001b[37m\u001b[0m \u001b[1m6s\u001b[0m 1ms/step - accuracy: 0.8318 - loss: 0.4526 - val_accuracy: 0.8436 - val_loss: 0.4130\n",
            "Epoch 10/20\n",
            "\u001b[1m4104/4104\u001b[0m \u001b[32m━━━━━━━━━━━━━━━━━━━━\u001b[0m\u001b[37m\u001b[0m \u001b[1m11s\u001b[0m 2ms/step - accuracy: 0.8354 - loss: 0.4455 - val_accuracy: 0.8465 - val_loss: 0.4089\n",
            "Epoch 11/20\n",
            "\u001b[1m4104/4104\u001b[0m \u001b[32m━━━━━━━━━━━━━━━━━━━━\u001b[0m\u001b[37m\u001b[0m \u001b[1m6s\u001b[0m 1ms/step - accuracy: 0.8346 - loss: 0.4465 - val_accuracy: 0.8493 - val_loss: 0.4031\n",
            "Epoch 12/20\n",
            "\u001b[1m4104/4104\u001b[0m \u001b[32m━━━━━━━━━━━━━━━━━━━━\u001b[0m\u001b[37m\u001b[0m \u001b[1m11s\u001b[0m 2ms/step - accuracy: 0.8365 - loss: 0.4389 - val_accuracy: 0.8476 - val_loss: 0.4006\n",
            "Epoch 13/20\n",
            "\u001b[1m4104/4104\u001b[0m \u001b[32m━━━━━━━━━━━━━━━━━━━━\u001b[0m\u001b[37m\u001b[0m \u001b[1m10s\u001b[0m 1ms/step - accuracy: 0.8384 - loss: 0.4345 - val_accuracy: 0.8506 - val_loss: 0.3949\n",
            "Epoch 14/20\n",
            "\u001b[1m4104/4104\u001b[0m \u001b[32m━━━━━━━━━━━━━━━━━━━━\u001b[0m\u001b[37m\u001b[0m \u001b[1m7s\u001b[0m 2ms/step - accuracy: 0.8384 - loss: 0.4303 - val_accuracy: 0.8538 - val_loss: 0.3929\n",
            "Epoch 15/20\n",
            "\u001b[1m4104/4104\u001b[0m \u001b[32m━━━━━━━━━━━━━━━━━━━━\u001b[0m\u001b[37m\u001b[0m \u001b[1m5s\u001b[0m 1ms/step - accuracy: 0.8397 - loss: 0.4313 - val_accuracy: 0.8520 - val_loss: 0.3900\n",
            "Epoch 16/20\n",
            "\u001b[1m4104/4104\u001b[0m \u001b[32m━━━━━━━━━━━━━━━━━━━━\u001b[0m\u001b[37m\u001b[0m \u001b[1m7s\u001b[0m 2ms/step - accuracy: 0.8405 - loss: 0.4281 - val_accuracy: 0.8563 - val_loss: 0.3904\n",
            "Epoch 17/20\n",
            "\u001b[1m4104/4104\u001b[0m \u001b[32m━━━━━━━━━━━━━━━━━━━━\u001b[0m\u001b[37m\u001b[0m \u001b[1m8s\u001b[0m 1ms/step - accuracy: 0.8403 - loss: 0.4244 - val_accuracy: 0.8550 - val_loss: 0.3857\n",
            "Epoch 18/20\n",
            "\u001b[1m4104/4104\u001b[0m \u001b[32m━━━━━━━━━━━━━━━━━━━━\u001b[0m\u001b[37m\u001b[0m \u001b[1m12s\u001b[0m 2ms/step - accuracy: 0.8421 - loss: 0.4254 - val_accuracy: 0.8551 - val_loss: 0.3838\n",
            "Epoch 19/20\n",
            "\u001b[1m4104/4104\u001b[0m \u001b[32m━━━━━━━━━━━━━━━━━━━━\u001b[0m\u001b[37m\u001b[0m \u001b[1m9s\u001b[0m 2ms/step - accuracy: 0.8408 - loss: 0.4242 - val_accuracy: 0.8588 - val_loss: 0.3796\n",
            "Epoch 20/20\n",
            "\u001b[1m4104/4104\u001b[0m \u001b[32m━━━━━━━━━━━━━━━━━━━━\u001b[0m\u001b[37m\u001b[0m \u001b[1m10s\u001b[0m 2ms/step - accuracy: 0.8423 - loss: 0.4243 - val_accuracy: 0.8543 - val_loss: 0.3817\n",
            "\u001b[1m2199/2199\u001b[0m \u001b[32m━━━━━━━━━━━━━━━━━━━━\u001b[0m\u001b[37m\u001b[0m \u001b[1m2s\u001b[0m 713us/step - accuracy: 0.8551 - loss: 0.3860\n",
            "Test Accuracy: 0.86\n",
            "\u001b[1m2199/2199\u001b[0m \u001b[32m━━━━━━━━━━━━━━━━━━━━\u001b[0m\u001b[37m\u001b[0m \u001b[1m2s\u001b[0m 800us/step\n",
            "\n",
            "Classification Report:\n",
            "               precision    recall  f1-score   support\n",
            "\n",
            "           0       0.83      0.59      0.69     17564\n",
            "           2       0.62      0.87      0.72        86\n",
            "           3       0.49      0.92      0.64       541\n",
            "           4       0.82      0.36      0.50       307\n",
            "           5       0.64      0.89      0.74       268\n",
            "           6       0.84      0.99      0.91      2368\n",
            "           7       0.73      0.86      0.79       844\n",
            "           8       0.84      0.89      0.87       187\n",
            "           9       1.00      0.83      0.91         6\n",
            "          10       0.99      0.97      0.98       250\n",
            "          11       0.95      1.00      0.97       229\n",
            "          12       0.95      1.00      0.97       845\n",
            "          13       1.00      0.80      0.89        20\n",
            "          14       0.90      0.87      0.89       354\n",
            "          15       0.88      1.00      0.93      1738\n",
            "          16       0.94      0.29      0.45       619\n",
            "          17       0.73      0.97      0.83       988\n",
            "          18       0.00      0.00      0.00         9\n",
            "          19       0.33      0.14      0.20         7\n",
            "          20       0.00      0.00      0.00         2\n",
            "          21       1.00      0.33      0.50         3\n",
            "          22       0.00      0.00      0.00         1\n",
            "          23       0.83      0.48      0.61        21\n",
            "          24       0.00      0.00      0.00         7\n",
            "          25       0.00      0.00      0.00        38\n",
            "          26       0.00      0.00      0.00         2\n",
            "          27       0.00      0.00      0.00        35\n",
            "          28       0.33      0.17      0.22         6\n",
            "          29       0.00      0.00      0.00         1\n",
            "          30       0.10      0.06      0.07        18\n",
            "          31       0.94      0.91      0.92       195\n",
            "          32       0.78      0.66      0.71        87\n",
            "          33       0.00      0.00      0.00         9\n",
            "          34       0.00      0.00      0.00         1\n",
            "          35       0.60      1.00      0.75         3\n",
            "          36       0.00      0.00      0.00         1\n",
            "          37       0.00      0.00      0.00         2\n",
            "          39       0.00      0.00      0.00         1\n",
            "          40       0.57      0.86      0.69        86\n",
            "          41       0.25      0.02      0.04        89\n",
            "          42       0.00      0.00      0.00         2\n",
            "          43       0.00      0.00      0.00         1\n",
            "          44       0.00      0.00      0.00         9\n",
            "          45       0.00      0.00      0.00         2\n",
            "          46       0.00      0.00      0.00         3\n",
            "          47       0.00      0.00      0.00         1\n",
            "          48       0.00      0.00      0.00         2\n",
            "          49       0.90      0.99      0.94       420\n",
            "          50       0.72      0.96      0.82      1147\n",
            "          51       0.90      1.00      0.95     21296\n",
            "          52       0.81      0.75      0.78      6143\n",
            "          53       0.88      1.00      0.94     12348\n",
            "          54       0.89      1.00      0.94       756\n",
            "          55       0.92      0.90      0.91       372\n",
            "\n",
            "    accuracy                           0.86     70340\n",
            "   macro avg       0.48      0.47      0.46     70340\n",
            "weighted avg       0.85      0.86      0.84     70340\n",
            "\n"
          ]
        },
        {
          "output_type": "stream",
          "name": "stderr",
          "text": [
            "/usr/local/lib/python3.10/dist-packages/sklearn/metrics/_classification.py:1531: UndefinedMetricWarning: Precision is ill-defined and being set to 0.0 in labels with no predicted samples. Use `zero_division` parameter to control this behavior.\n",
            "  _warn_prf(average, modifier, f\"{metric.capitalize()} is\", len(result))\n",
            "/usr/local/lib/python3.10/dist-packages/sklearn/metrics/_classification.py:1531: UndefinedMetricWarning: Precision is ill-defined and being set to 0.0 in labels with no predicted samples. Use `zero_division` parameter to control this behavior.\n",
            "  _warn_prf(average, modifier, f\"{metric.capitalize()} is\", len(result))\n",
            "/usr/local/lib/python3.10/dist-packages/sklearn/metrics/_classification.py:1531: UndefinedMetricWarning: Precision is ill-defined and being set to 0.0 in labels with no predicted samples. Use `zero_division` parameter to control this behavior.\n",
            "  _warn_prf(average, modifier, f\"{metric.capitalize()} is\", len(result))\n"
          ]
        }
      ],
      "source": [
        "import tensorflow as tf\n",
        "from tensorflow.keras.models import Sequential\n",
        "from tensorflow.keras.layers import Dense, Dropout\n",
        "from sklearn.model_selection import train_test_split\n",
        "from sklearn.preprocessing import StandardScaler, LabelEncoder\n",
        "from sklearn.metrics import accuracy_score, classification_report\n",
        "\n",
        "# Prepare data (same steps as before)\n",
        "features = ['distance_to_city_center', 'parcel_size', 'infrastructure_density',\n",
        "            'distance_to_nearest_bus_stop', 'Zoning', 'Zoning Description']\n",
        "target = 'PLANNED_LAND_USE'  # Example target column\n",
        "\n",
        "# Drop missing values\n",
        "addresses.dropna(subset=features + [target], inplace=True)\n",
        "\n",
        "# Features and target\n",
        "X = addresses[features]\n",
        "y = addresses[target]\n",
        "\n",
        "# Normalize features\n",
        "scaler = StandardScaler()\n",
        "X_scaled = scaler.fit_transform(X)\n",
        "\n",
        "# Encode target variable\n",
        "label_encoder = LabelEncoder()\n",
        "y_encoded = label_encoder.fit_transform(y)\n",
        "\n",
        "# Train-test split\n",
        "X_train, X_test, y_train, y_test = train_test_split(X_scaled, y_encoded, test_size=0.3, random_state=42)\n",
        "\n",
        "# Define the DNN architecture\n",
        "model = Sequential([\n",
        "    Dense(128, activation='relu', input_shape=(X_train.shape[1],)),\n",
        "    Dropout(0.2),  # Dropout to prevent overfitting\n",
        "    Dense(64, activation='relu'),\n",
        "    Dropout(0.2),\n",
        "    Dense(len(label_encoder.classes_), activation='softmax')  # Output layer for classification\n",
        "])\n",
        "\n",
        "# Compile the model\n",
        "model.compile(optimizer='adam',\n",
        "              loss='sparse_categorical_crossentropy',\n",
        "              metrics=['accuracy'])\n",
        "\n",
        "\n",
        "# Existing baseline model\n",
        "# This code is for the original model without class weights.\n",
        "# Keeping it for reference.\n",
        "\n",
        "\n",
        "'''\n",
        "\n",
        "# Train the model\n",
        "history = model.fit(X_train, y_train, epochs=20, batch_size=32, validation_split=0.2)\n",
        "\n",
        "# Evaluate the model\n",
        "loss, accuracy = model.evaluate(X_test, y_test)\n",
        "print(f\"Test Accuracy: {accuracy:.2f}\")\n",
        "\n",
        "# Predict on test data\n",
        "y_pred = model.predict(X_test)\n",
        "y_pred_classes = y_pred.argmax(axis=1)\n",
        "\n",
        "# Classification report\n",
        "print(\"\\nClassification Report:\\n\", classification_report(y_test, y_pred_classes))\n",
        "\n",
        "'''\n"
      ]
    },
    {
      "cell_type": "markdown",
      "source": [
        "## **B. Weighted DNN Model - for trying to balance the minor classes with weights**"
      ],
      "metadata": {
        "id": "_xfU8aL0vXIR"
      }
    },
    {
      "cell_type": "code",
      "source": [
        "# Adding class-weighted DNN model\n",
        "from sklearn.utils.class_weight import compute_class_weight\n",
        "\n",
        "# Compute class weights\n",
        "class_weights = compute_class_weight('balanced', classes=np.unique(y_train), y=y_train)\n",
        "class_weights_dict = {i: class_weights[i] for i in range(len(class_weights))}\n",
        "\n",
        "# Print class weights for reference\n",
        "print(\"Class Weights:\", class_weights_dict)\n",
        "\n",
        "'''\n",
        "\n",
        "# Train the DNN with class weights\n",
        "history_weighted = model.fit(\n",
        "    X_train, y_train,\n",
        "    epochs=20, batch_size=32,\n",
        "    validation_split=0.2,\n",
        "    class_weight=class_weights_dict\n",
        ")\n",
        "\n",
        "# Evaluate the weighted model\n",
        "loss_weighted, accuracy_weighted = model.evaluate(X_test, y_test)\n",
        "print(f\"Test Accuracy with Class Weights: {accuracy_weighted:.2f}\")\n",
        "\n",
        "# Predict with the weighted model\n",
        "y_pred_weighted = model.predict(X_test)\n",
        "y_pred_classes_weighted = y_pred_weighted.argmax(axis=1)\n",
        "\n",
        "# Classification report for weighted model\n",
        "print(\"\\nClassification Report with Class Weights:\\n\",\n",
        "      classification_report(y_test, y_pred_classes_weighted))\n",
        "\n",
        "'''"
      ],
      "metadata": {
        "colab": {
          "base_uri": "https://localhost:8080/"
        },
        "id": "ebXzxMetXQei",
        "outputId": "47791079-3258-48cb-c240-95b1eb4772aa"
      },
      "execution_count": null,
      "outputs": [
        {
          "output_type": "stream",
          "name": "stdout",
          "text": [
            "Class Weights: {0: 0.07474857607662999, 1: 1013.1172839506173, 2: 13.214573268921095, 3: 2.3597452265930525, 4: 4.203806157471441, 5: 4.373168132160938, 6: 0.559115498868994, 7: 1.4804441557972976, 8: 5.822513126152973, 9: 144.7310405643739, 10: 4.719490453186105, 11: 5.649352884482996, 12: 1.625321845910081, 13: 79.98294346978558, 14: 3.9166905307369224, 15: 0.7460362915689376, 16: 2.019502891595915, 17: 1.353228785330299, 18: 101.31172839506173, 19: 159.96588693957116, 20: 3039.3518518518517, 21: 303.93518518518516, 22: 89.39270152505446, 23: 217.09656084656083, 24: 30.700523756079313, 25: 506.55864197530866, 26: 37.065266485998194, 27: 217.09656084656083, 28: 607.8703703703703, 29: 45.36346047540077, 30: 7.271176679071416, 31: 18.87796181274442, 32: 233.7962962962963, 33: 3039.3518518518517, 34: 253.27932098765433, 35: 3039.3518518518517, 36: 607.8703703703703, 37: 3039.3518518518517, 38: 607.8703703703703, 39: 11.965952172645085, 40: 13.214573268921095, 41: 506.55864197530866, 42: 168.85288065843622, 43: 1013.1172839506173, 44: 607.8703703703703, 45: 434.19312169312167, 46: 607.8703703703703, 47: 3.596866096866097, 48: 1.138334026910806, 49: 0.060585891876008685, 50: 0.21078797779678562, 51: 0.10660651883029997, 52: 1.6810574401835463, 53: 3.542368125701459}\n",
            "Epoch 1/20\n",
            "\u001b[1m4104/4104\u001b[0m \u001b[32m━━━━━━━━━━━━━━━━━━━━\u001b[0m\u001b[37m\u001b[0m \u001b[1m6s\u001b[0m 1ms/step - accuracy: 0.6784 - loss: 4.6943 - val_accuracy: 0.6059 - val_loss: 1.1825\n",
            "Epoch 2/20\n",
            "\u001b[1m4104/4104\u001b[0m \u001b[32m━━━━━━━━━━━━━━━━━━━━\u001b[0m\u001b[37m\u001b[0m \u001b[1m6s\u001b[0m 1ms/step - accuracy: 0.5934 - loss: 2.8351 - val_accuracy: 0.5891 - val_loss: 1.3776\n",
            "Epoch 3/20\n",
            "\u001b[1m4104/4104\u001b[0m \u001b[32m━━━━━━━━━━━━━━━━━━━━\u001b[0m\u001b[37m\u001b[0m \u001b[1m6s\u001b[0m 1ms/step - accuracy: 0.5611 - loss: 2.6248 - val_accuracy: 0.5528 - val_loss: 1.4500\n",
            "Epoch 4/20\n",
            "\u001b[1m4104/4104\u001b[0m \u001b[32m━━━━━━━━━━━━━━━━━━━━\u001b[0m\u001b[37m\u001b[0m \u001b[1m10s\u001b[0m 1ms/step - accuracy: 0.5283 - loss: 3.4988 - val_accuracy: 0.5955 - val_loss: 1.3015\n",
            "Epoch 5/20\n",
            "\u001b[1m4104/4104\u001b[0m \u001b[32m━━━━━━━━━━━━━━━━━━━━\u001b[0m\u001b[37m\u001b[0m \u001b[1m6s\u001b[0m 2ms/step - accuracy: 0.5499 - loss: 2.2088 - val_accuracy: 0.5484 - val_loss: 1.5012\n",
            "Epoch 6/20\n",
            "\u001b[1m4104/4104\u001b[0m \u001b[32m━━━━━━━━━━━━━━━━━━━━\u001b[0m\u001b[37m\u001b[0m \u001b[1m6s\u001b[0m 1ms/step - accuracy: 0.5545 - loss: 3.2006 - val_accuracy: 0.5871 - val_loss: 1.4120\n",
            "Epoch 7/20\n",
            "\u001b[1m4104/4104\u001b[0m \u001b[32m━━━━━━━━━━━━━━━━━━━━\u001b[0m\u001b[37m\u001b[0m \u001b[1m6s\u001b[0m 1ms/step - accuracy: 0.5509 - loss: 2.5791 - val_accuracy: 0.5650 - val_loss: 1.4761\n",
            "Epoch 8/20\n",
            "\u001b[1m4104/4104\u001b[0m \u001b[32m━━━━━━━━━━━━━━━━━━━━\u001b[0m\u001b[37m\u001b[0m \u001b[1m6s\u001b[0m 1ms/step - accuracy: 0.5489 - loss: 2.6622 - val_accuracy: 0.5589 - val_loss: 1.4578\n",
            "Epoch 9/20\n",
            "\u001b[1m4104/4104\u001b[0m \u001b[32m━━━━━━━━━━━━━━━━━━━━\u001b[0m\u001b[37m\u001b[0m \u001b[1m5s\u001b[0m 1ms/step - accuracy: 0.5478 - loss: 2.2437 - val_accuracy: 0.5456 - val_loss: 1.5365\n",
            "Epoch 10/20\n",
            "\u001b[1m4104/4104\u001b[0m \u001b[32m━━━━━━━━━━━━━━━━━━━━\u001b[0m\u001b[37m\u001b[0m \u001b[1m7s\u001b[0m 2ms/step - accuracy: 0.5404 - loss: 2.1705 - val_accuracy: 0.5489 - val_loss: 1.4686\n",
            "Epoch 11/20\n",
            "\u001b[1m4104/4104\u001b[0m \u001b[32m━━━━━━━━━━━━━━━━━━━━\u001b[0m\u001b[37m\u001b[0m \u001b[1m9s\u001b[0m 1ms/step - accuracy: 0.5355 - loss: 2.6918 - val_accuracy: 0.5768 - val_loss: 1.4409\n",
            "Epoch 12/20\n",
            "\u001b[1m4104/4104\u001b[0m \u001b[32m━━━━━━━━━━━━━━━━━━━━\u001b[0m\u001b[37m\u001b[0m \u001b[1m10s\u001b[0m 1ms/step - accuracy: 0.5604 - loss: 5.8561 - val_accuracy: 0.5607 - val_loss: 1.5176\n",
            "Epoch 13/20\n",
            "\u001b[1m4104/4104\u001b[0m \u001b[32m━━━━━━━━━━━━━━━━━━━━\u001b[0m\u001b[37m\u001b[0m \u001b[1m6s\u001b[0m 2ms/step - accuracy: 0.5510 - loss: 2.8222 - val_accuracy: 0.5749 - val_loss: 1.4593\n",
            "Epoch 14/20\n",
            "\u001b[1m4104/4104\u001b[0m \u001b[32m━━━━━━━━━━━━━━━━━━━━\u001b[0m\u001b[37m\u001b[0m \u001b[1m9s\u001b[0m 1ms/step - accuracy: 0.5465 - loss: 2.1432 - val_accuracy: 0.5665 - val_loss: 1.5630\n",
            "Epoch 15/20\n",
            "\u001b[1m4104/4104\u001b[0m \u001b[32m━━━━━━━━━━━━━━━━━━━━\u001b[0m\u001b[37m\u001b[0m \u001b[1m6s\u001b[0m 2ms/step - accuracy: 0.5461 - loss: 2.6833 - val_accuracy: 0.5617 - val_loss: 1.5011\n",
            "Epoch 16/20\n",
            "\u001b[1m4104/4104\u001b[0m \u001b[32m━━━━━━━━━━━━━━━━━━━━\u001b[0m\u001b[37m\u001b[0m \u001b[1m5s\u001b[0m 1ms/step - accuracy: 0.5544 - loss: 2.6090 - val_accuracy: 0.5581 - val_loss: 1.5382\n",
            "Epoch 17/20\n",
            "\u001b[1m4104/4104\u001b[0m \u001b[32m━━━━━━━━━━━━━━━━━━━━\u001b[0m\u001b[37m\u001b[0m \u001b[1m6s\u001b[0m 2ms/step - accuracy: 0.5382 - loss: 1.9300 - val_accuracy: 0.5615 - val_loss: 1.4587\n",
            "Epoch 18/20\n",
            "\u001b[1m4104/4104\u001b[0m \u001b[32m━━━━━━━━━━━━━━━━━━━━\u001b[0m\u001b[37m\u001b[0m \u001b[1m10s\u001b[0m 1ms/step - accuracy: 0.5509 - loss: 2.0608 - val_accuracy: 0.5596 - val_loss: 1.5631\n",
            "Epoch 19/20\n",
            "\u001b[1m4104/4104\u001b[0m \u001b[32m━━━━━━━━━━━━━━━━━━━━\u001b[0m\u001b[37m\u001b[0m \u001b[1m10s\u001b[0m 1ms/step - accuracy: 0.5421 - loss: 2.9183 - val_accuracy: 0.5371 - val_loss: 1.6894\n",
            "Epoch 20/20\n",
            "\u001b[1m4104/4104\u001b[0m \u001b[32m━━━━━━━━━━━━━━━━━━━━\u001b[0m\u001b[37m\u001b[0m \u001b[1m7s\u001b[0m 2ms/step - accuracy: 0.5375 - loss: 2.0912 - val_accuracy: 0.5575 - val_loss: 1.5094\n",
            "\u001b[1m2199/2199\u001b[0m \u001b[32m━━━━━━━━━━━━━━━━━━━━\u001b[0m\u001b[37m\u001b[0m \u001b[1m2s\u001b[0m 709us/step - accuracy: 0.5570 - loss: 1.5029\n",
            "Test Accuracy with Class Weights: 0.56\n",
            "\u001b[1m2199/2199\u001b[0m \u001b[32m━━━━━━━━━━━━━━━━━━━━\u001b[0m\u001b[37m\u001b[0m \u001b[1m2s\u001b[0m 753us/step\n",
            "\n",
            "Classification Report with Class Weights:\n",
            "               precision    recall  f1-score   support\n",
            "\n",
            "           0       0.94      0.08      0.15     17564\n",
            "           1       0.00      0.00      0.00         0\n",
            "           2       0.31      0.91      0.46        86\n",
            "           3       0.44      0.77      0.56       541\n",
            "           4       0.41      0.52      0.46       307\n",
            "           5       0.50      0.98      0.67       268\n",
            "           6       0.79      0.96      0.87      2368\n",
            "           7       0.59      0.84      0.69       844\n",
            "           8       0.46      0.96      0.62       187\n",
            "           9       0.43      1.00      0.60         6\n",
            "          10       1.00      0.80      0.89       250\n",
            "          11       0.81      1.00      0.89       229\n",
            "          12       0.95      0.93      0.94       845\n",
            "          13       0.14      1.00      0.24        20\n",
            "          14       0.46      0.97      0.62       354\n",
            "          15       0.86      0.81      0.84      1738\n",
            "          16       0.19      0.31      0.24       619\n",
            "          17       0.64      0.69      0.67       988\n",
            "          18       0.03      0.33      0.05         9\n",
            "          19       0.13      1.00      0.23         7\n",
            "          20       0.40      1.00      0.57         2\n",
            "          21       0.07      0.67      0.13         3\n",
            "          22       0.00      0.00      0.00         1\n",
            "          23       0.09      0.76      0.16        21\n",
            "          24       0.00      0.00      0.00         7\n",
            "          25       0.02      0.82      0.04        38\n",
            "          26       0.00      0.00      0.00         2\n",
            "          27       0.01      0.71      0.01        35\n",
            "          28       0.06      0.67      0.12         6\n",
            "          29       0.00      0.00      0.00         1\n",
            "          30       0.00      0.00      0.00        18\n",
            "          31       0.52      0.79      0.63       195\n",
            "          32       0.03      0.89      0.07        87\n",
            "          33       0.20      1.00      0.33         9\n",
            "          34       1.00      1.00      1.00         1\n",
            "          35       0.60      1.00      0.75         3\n",
            "          36       0.00      0.00      0.00         1\n",
            "          37       0.08      1.00      0.15         2\n",
            "          39       0.00      0.00      0.00         1\n",
            "          40       1.00      0.20      0.33        86\n",
            "          41       0.01      0.93      0.03        89\n",
            "          42       0.00      0.00      0.00         2\n",
            "          43       0.00      0.00      0.00         1\n",
            "          44       0.02      0.33      0.03         9\n",
            "          45       0.00      0.00      0.00         2\n",
            "          46       0.03      0.67      0.05         3\n",
            "          47       0.00      0.00      0.00         1\n",
            "          48       0.00      0.00      0.00         2\n",
            "          49       0.75      0.77      0.76       420\n",
            "          50       0.75      0.27      0.39      1147\n",
            "          51       0.86      0.45      0.59     21296\n",
            "          52       0.44      0.99      0.61      6143\n",
            "          53       0.87      1.00      0.93     12348\n",
            "          54       0.71      0.70      0.71       756\n",
            "          55       0.67      0.38      0.49       372\n",
            "\n",
            "    accuracy                           0.56     70340\n",
            "   macro avg       0.35      0.58      0.36     70340\n",
            "weighted avg       0.81      0.56      0.56     70340\n",
            "\n"
          ]
        },
        {
          "output_type": "stream",
          "name": "stderr",
          "text": [
            "/usr/local/lib/python3.10/dist-packages/sklearn/metrics/_classification.py:1531: UndefinedMetricWarning: Precision is ill-defined and being set to 0.0 in labels with no predicted samples. Use `zero_division` parameter to control this behavior.\n",
            "  _warn_prf(average, modifier, f\"{metric.capitalize()} is\", len(result))\n",
            "/usr/local/lib/python3.10/dist-packages/sklearn/metrics/_classification.py:1531: UndefinedMetricWarning: Recall is ill-defined and being set to 0.0 in labels with no true samples. Use `zero_division` parameter to control this behavior.\n",
            "  _warn_prf(average, modifier, f\"{metric.capitalize()} is\", len(result))\n",
            "/usr/local/lib/python3.10/dist-packages/sklearn/metrics/_classification.py:1531: UndefinedMetricWarning: Precision is ill-defined and being set to 0.0 in labels with no predicted samples. Use `zero_division` parameter to control this behavior.\n",
            "  _warn_prf(average, modifier, f\"{metric.capitalize()} is\", len(result))\n",
            "/usr/local/lib/python3.10/dist-packages/sklearn/metrics/_classification.py:1531: UndefinedMetricWarning: Recall is ill-defined and being set to 0.0 in labels with no true samples. Use `zero_division` parameter to control this behavior.\n",
            "  _warn_prf(average, modifier, f\"{metric.capitalize()} is\", len(result))\n",
            "/usr/local/lib/python3.10/dist-packages/sklearn/metrics/_classification.py:1531: UndefinedMetricWarning: Precision is ill-defined and being set to 0.0 in labels with no predicted samples. Use `zero_division` parameter to control this behavior.\n",
            "  _warn_prf(average, modifier, f\"{metric.capitalize()} is\", len(result))\n",
            "/usr/local/lib/python3.10/dist-packages/sklearn/metrics/_classification.py:1531: UndefinedMetricWarning: Recall is ill-defined and being set to 0.0 in labels with no true samples. Use `zero_division` parameter to control this behavior.\n",
            "  _warn_prf(average, modifier, f\"{metric.capitalize()} is\", len(result))\n"
          ]
        }
      ]
    },
    {
      "cell_type": "markdown",
      "source": [
        "## **C. SMOTE Minor Class Balancing**"
      ],
      "metadata": {
        "id": "rKj9nhvgvgqh"
      }
    },
    {
      "cell_type": "code",
      "source": [
        "from imblearn.over_sampling import SMOTE\n",
        "from sklearn.model_selection import train_test_split\n",
        "from sklearn.preprocessing import StandardScaler, LabelEncoder\n",
        "from sklearn.metrics import classification_report\n",
        "from tensorflow.keras.models import Sequential\n",
        "from tensorflow.keras.layers import Dense, Dropout\n",
        "from collections import Counter\n",
        "\n",
        "# Prepare the data\n",
        "features = ['distance_to_city_center', 'parcel_size', 'infrastructure_density',\n",
        "            'distance_to_nearest_bus_stop', 'Zoning', 'Zoning Description']\n",
        "target = 'PLANNED_LAND_USE'\n",
        "\n",
        "# Drop missing values\n",
        "addresses.dropna(subset=features + [target], inplace=True)\n",
        "\n",
        "# Features and target\n",
        "X = addresses[features]\n",
        "y = addresses[target]\n",
        "\n",
        "# Encode target variable\n",
        "label_encoder = LabelEncoder()\n",
        "y_encoded = label_encoder.fit_transform(y)\n",
        "\n",
        "# Normalize features\n",
        "scaler = StandardScaler()\n",
        "X_scaled = scaler.fit_transform(X)\n",
        "\n",
        "# Filter out classes with fewer than 3 samples\n",
        "min_samples = 3\n",
        "class_counts = Counter(y_encoded)\n",
        "classes_to_keep = [cls for cls, count in class_counts.items() if count >= min_samples]\n",
        "filtered_indices = [i for i, label in enumerate(y_encoded) if label in classes_to_keep]\n",
        "\n",
        "X_filtered = X_scaled[filtered_indices]\n",
        "y_filtered = y_encoded[filtered_indices]\n",
        "\n",
        "# Apply SMOTE to balance the dataset\n",
        "smote = SMOTE(random_state=42, k_neighbors=2)\n",
        "X_resampled, y_resampled = smote.fit_resample(X_filtered, y_filtered)\n",
        "\n",
        "# Train-test split\n",
        "X_train, X_test, y_train, y_test = train_test_split(X_resampled, y_resampled, test_size=0.3, random_state=42)\n",
        "\n",
        "# Define the DNN architecture\n",
        "model = Sequential([\n",
        "    Dense(128, activation='relu', input_shape=(X_train.shape[1],)),\n",
        "    Dropout(0.2),\n",
        "    Dense(64, activation='relu'),\n",
        "    Dropout(0.2),\n",
        "    Dense(len(label_encoder.classes_), activation='softmax')\n",
        "])\n",
        "\n",
        "# Compile the model\n",
        "model.compile(optimizer='adam',\n",
        "              loss='sparse_categorical_crossentropy',\n",
        "              metrics=['accuracy'])\n",
        "\n",
        "# Train the model\n",
        "history = model.fit(X_train, y_train, epochs=20, batch_size=32, validation_split=0.2)\n",
        "\n",
        "# Evaluate the model\n",
        "loss, accuracy = model.evaluate(X_test, y_test)\n",
        "print(f\"Test Accuracy with SMOTE: {accuracy:.2f}\")\n",
        "\n",
        "# Predict on test data\n",
        "y_pred = model.predict(X_test)\n",
        "y_pred_classes = y_pred.argmax(axis=1)\n",
        "\n",
        "# Classification report\n",
        "print(\"\\nClassification Report with SMOTE:\\n\", classification_report(y_test, y_pred_classes))\n"
      ],
      "metadata": {
        "colab": {
          "base_uri": "https://localhost:8080/"
        },
        "id": "SI_acWqAXQbm",
        "outputId": "87e00513-fe48-444f-e110-c1dd7305a3bf"
      },
      "execution_count": null,
      "outputs": [
        {
          "metadata": {
            "tags": null
          },
          "name": "stdout",
          "output_type": "stream",
          "text": [
            "Epoch 1/20\n"
          ]
        },
        {
          "metadata": {
            "tags": null
          },
          "name": "stderr",
          "output_type": "stream",
          "text": [
            "/usr/local/lib/python3.10/dist-packages/keras/src/layers/core/dense.py:87: UserWarning: Do not pass an `input_shape`/`input_dim` argument to a layer. When using Sequential models, prefer using an `Input(shape)` object as the first layer in the model instead.\n",
            "  super().__init__(activity_regularizer=activity_regularizer, **kwargs)\n"
          ]
        },
        {
          "output_type": "stream",
          "name": "stdout",
          "text": [
            "\u001b[1m63780/63780\u001b[0m \u001b[32m━━━━━━━━━━━━━━━━━━━━\u001b[0m\u001b[37m\u001b[0m \u001b[1m97s\u001b[0m 2ms/step - accuracy: 0.7578 - loss: 0.7686 - val_accuracy: 0.9366 - val_loss: 0.2000\n",
            "Epoch 2/20\n",
            "\u001b[1m63780/63780\u001b[0m \u001b[32m━━━━━━━━━━━━━━━━━━━━\u001b[0m\u001b[37m\u001b[0m \u001b[1m135s\u001b[0m 1ms/step - accuracy: 0.9004 - loss: 0.2988 - val_accuracy: 0.9497 - val_loss: 0.1570\n",
            "Epoch 3/20\n",
            "\u001b[1m63780/63780\u001b[0m \u001b[32m━━━━━━━━━━━━━━━━━━━━\u001b[0m\u001b[37m\u001b[0m \u001b[1m149s\u001b[0m 2ms/step - accuracy: 0.9159 - loss: 0.2575 - val_accuracy: 0.9587 - val_loss: 0.1401\n",
            "Epoch 4/20\n",
            "\u001b[1m63780/63780\u001b[0m \u001b[32m━━━━━━━━━━━━━━━━━━━━\u001b[0m\u001b[37m\u001b[0m \u001b[1m95s\u001b[0m 1ms/step - accuracy: 0.9224 - loss: 0.2388 - val_accuracy: 0.9620 - val_loss: 0.1303\n",
            "Epoch 5/20\n",
            "\u001b[1m63780/63780\u001b[0m \u001b[32m━━━━━━━━━━━━━━━━━━━━\u001b[0m\u001b[37m\u001b[0m \u001b[1m134s\u001b[0m 1ms/step - accuracy: 0.9272 - loss: 0.2255 - val_accuracy: 0.9650 - val_loss: 0.1206\n",
            "Epoch 6/20\n",
            "\u001b[1m63780/63780\u001b[0m \u001b[32m━━━━━━━━━━━━━━━━━━━━\u001b[0m\u001b[37m\u001b[0m \u001b[1m96s\u001b[0m 2ms/step - accuracy: 0.9306 - loss: 0.2161 - val_accuracy: 0.9542 - val_loss: 0.1304\n",
            "Epoch 7/20\n",
            "\u001b[1m63780/63780\u001b[0m \u001b[32m━━━━━━━━━━━━━━━━━━━━\u001b[0m\u001b[37m\u001b[0m \u001b[1m96s\u001b[0m 2ms/step - accuracy: 0.9328 - loss: 0.2104 - val_accuracy: 0.9634 - val_loss: 0.1157\n",
            "Epoch 8/20\n",
            "\u001b[1m63780/63780\u001b[0m \u001b[32m━━━━━━━━━━━━━━━━━━━━\u001b[0m\u001b[37m\u001b[0m \u001b[1m86s\u001b[0m 1ms/step - accuracy: 0.9345 - loss: 0.2058 - val_accuracy: 0.9662 - val_loss: 0.1099\n",
            "Epoch 9/20\n",
            "\u001b[1m63780/63780\u001b[0m \u001b[32m━━━━━━━━━━━━━━━━━━━━\u001b[0m\u001b[37m\u001b[0m \u001b[1m85s\u001b[0m 1ms/step - accuracy: 0.9352 - loss: 0.2049 - val_accuracy: 0.9652 - val_loss: 0.1139\n",
            "Epoch 10/20\n",
            "\u001b[1m63780/63780\u001b[0m \u001b[32m━━━━━━━━━━━━━━━━━━━━\u001b[0m\u001b[37m\u001b[0m \u001b[1m91s\u001b[0m 1ms/step - accuracy: 0.9360 - loss: 0.2022 - val_accuracy: 0.9653 - val_loss: 0.1103\n",
            "Epoch 11/20\n",
            "\u001b[1m63780/63780\u001b[0m \u001b[32m━━━━━━━━━━━━━━━━━━━━\u001b[0m\u001b[37m\u001b[0m \u001b[1m89s\u001b[0m 1ms/step - accuracy: 0.9369 - loss: 0.1995 - val_accuracy: 0.9626 - val_loss: 0.1153\n",
            "Epoch 12/20\n",
            "\u001b[1m63780/63780\u001b[0m \u001b[32m━━━━━━━━━━━━━━━━━━━━\u001b[0m\u001b[37m\u001b[0m \u001b[1m85s\u001b[0m 1ms/step - accuracy: 0.9374 - loss: 0.1988 - val_accuracy: 0.9655 - val_loss: 0.1110\n",
            "Epoch 13/20\n",
            "\u001b[1m63780/63780\u001b[0m \u001b[32m━━━━━━━━━━━━━━━━━━━━\u001b[0m\u001b[37m\u001b[0m \u001b[1m159s\u001b[0m 2ms/step - accuracy: 0.9378 - loss: 0.1963 - val_accuracy: 0.9656 - val_loss: 0.1079\n",
            "Epoch 14/20\n",
            "\u001b[1m63780/63780\u001b[0m \u001b[32m━━━━━━━━━━━━━━━━━━━━\u001b[0m\u001b[37m\u001b[0m \u001b[1m105s\u001b[0m 2ms/step - accuracy: 0.9385 - loss: 0.1956 - val_accuracy: 0.9674 - val_loss: 0.1095\n",
            "Epoch 15/20\n",
            "\u001b[1m63780/63780\u001b[0m \u001b[32m━━━━━━━━━━━━━━━━━━━━\u001b[0m\u001b[37m\u001b[0m \u001b[1m131s\u001b[0m 1ms/step - accuracy: 0.9391 - loss: 0.1939 - val_accuracy: 0.9661 - val_loss: 0.1074\n",
            "Epoch 16/20\n",
            "\u001b[1m63780/63780\u001b[0m \u001b[32m━━━━━━━━━━━━━━━━━━━━\u001b[0m\u001b[37m\u001b[0m \u001b[1m151s\u001b[0m 2ms/step - accuracy: 0.9393 - loss: 0.1936 - val_accuracy: 0.9665 - val_loss: 0.1085\n",
            "Epoch 17/20\n",
            "\u001b[1m63780/63780\u001b[0m \u001b[32m━━━━━━━━━━━━━━━━━━━━\u001b[0m\u001b[37m\u001b[0m \u001b[1m93s\u001b[0m 1ms/step - accuracy: 0.9400 - loss: 0.1923 - val_accuracy: 0.9672 - val_loss: 0.1047\n",
            "Epoch 18/20\n",
            "\u001b[1m63780/63780\u001b[0m \u001b[32m━━━━━━━━━━━━━━━━━━━━\u001b[0m\u001b[37m\u001b[0m \u001b[1m143s\u001b[0m 1ms/step - accuracy: 0.9402 - loss: 0.1916 - val_accuracy: 0.9668 - val_loss: 0.1064\n",
            "Epoch 19/20\n",
            "\u001b[1m63780/63780\u001b[0m \u001b[32m━━━━━━━━━━━━━━━━━━━━\u001b[0m\u001b[37m\u001b[0m \u001b[1m101s\u001b[0m 2ms/step - accuracy: 0.9405 - loss: 0.1905 - val_accuracy: 0.9684 - val_loss: 0.1041\n",
            "Epoch 20/20\n",
            "\u001b[1m63780/63780\u001b[0m \u001b[32m━━━━━━━━━━━━━━━━━━━━\u001b[0m\u001b[37m\u001b[0m \u001b[1m134s\u001b[0m 1ms/step - accuracy: 0.9411 - loss: 0.1898 - val_accuracy: 0.9679 - val_loss: 0.1039\n",
            "\u001b[1m34168/34168\u001b[0m \u001b[32m━━━━━━━━━━━━━━━━━━━━\u001b[0m\u001b[37m\u001b[0m \u001b[1m31s\u001b[0m 911us/step - accuracy: 0.9677 - loss: 0.1027\n",
            "Test Accuracy with SMOTE: 0.97\n",
            "\u001b[1m34168/34168\u001b[0m \u001b[32m━━━━━━━━━━━━━━━━━━━━\u001b[0m\u001b[37m\u001b[0m \u001b[1m32s\u001b[0m 940us/step\n",
            "\n",
            "Classification Report with SMOTE:\n",
            "               precision    recall  f1-score   support\n",
            "\n",
            "           0       0.85      0.30      0.44     21681\n",
            "           1       0.98      1.00      0.99     21511\n",
            "           2       0.99      1.00      0.99     21684\n",
            "           3       0.95      0.99      0.97     21375\n",
            "           4       0.99      0.99      0.99     21490\n",
            "           5       0.96      1.00      0.98     21415\n",
            "           6       0.96      1.00      0.98     21550\n",
            "           7       0.97      1.00      0.98     21422\n",
            "           8       0.99      0.99      0.99     21400\n",
            "           9       1.00      1.00      1.00     21365\n",
            "          10       1.00      1.00      1.00     21585\n",
            "          11       1.00      1.00      1.00     21308\n",
            "          12       1.00      1.00      1.00     21572\n",
            "          13       1.00      1.00      1.00     21429\n",
            "          14       0.95      1.00      0.98     21338\n",
            "          15       0.96      0.98      0.97     21365\n",
            "          16       0.84      0.82      0.83     21301\n",
            "          17       0.97      0.96      0.97     21679\n",
            "          18       0.98      0.99      0.99     21544\n",
            "          19       0.98      1.00      0.99     21427\n",
            "          20       1.00      1.00      1.00     21354\n",
            "          21       0.99      1.00      1.00     21498\n",
            "          23       0.96      1.00      0.98     21237\n",
            "          24       0.99      1.00      0.99     21483\n",
            "          25       0.91      0.99      0.95     21256\n",
            "          26       1.00      1.00      1.00     21507\n",
            "          27       0.85      0.97      0.91     21293\n",
            "          28       1.00      0.99      1.00     21479\n",
            "          29       0.99      1.00      0.99     21375\n",
            "          30       0.96      0.98      0.97     21450\n",
            "          31       0.99      0.99      0.99     21603\n",
            "          32       0.99      0.83      0.90     21394\n",
            "          33       1.00      1.00      1.00     21588\n",
            "          35       1.00      1.00      1.00     21312\n",
            "          37       0.98      1.00      0.99     21428\n",
            "          39       1.00      1.00      1.00     21598\n",
            "          40       0.99      0.97      0.98     21508\n",
            "          41       0.96      0.95      0.95     21410\n",
            "          43       1.00      1.00      1.00     21473\n",
            "          44       0.95      1.00      0.98     21356\n",
            "          45       0.99      0.99      0.99     21397\n",
            "          46       1.00      1.00      1.00     21645\n",
            "          47       0.99      1.00      1.00     21467\n",
            "          48       1.00      1.00      1.00     21420\n",
            "          49       0.99      1.00      1.00     21432\n",
            "          50       0.96      0.99      0.98     21463\n",
            "          51       0.85      0.86      0.86     21068\n",
            "          52       0.79      0.95      0.86     21479\n",
            "          53       0.90      0.95      0.93     21264\n",
            "          54       0.99      0.94      0.97     21353\n",
            "          55       0.99      1.00      0.99     21338\n",
            "\n",
            "    accuracy                           0.97   1093369\n",
            "   macro avg       0.97      0.97      0.96   1093369\n",
            "weighted avg       0.97      0.97      0.96   1093369\n",
            "\n"
          ]
        }
      ]
    },
    {
      "cell_type": "code",
      "source": [],
      "metadata": {
        "id": "dpxCkGoXXQS7"
      },
      "execution_count": null,
      "outputs": []
    },
    {
      "cell_type": "code",
      "source": [],
      "metadata": {
        "id": "El-ztEUNXQEz"
      },
      "execution_count": null,
      "outputs": []
    }
  ],
  "metadata": {
    "colab": {
      "provenance": []
    },
    "kernelspec": {
      "display_name": "Python 3",
      "name": "python3"
    },
    "language_info": {
      "name": "python"
    }
  },
  "nbformat": 4,
  "nbformat_minor": 0
}